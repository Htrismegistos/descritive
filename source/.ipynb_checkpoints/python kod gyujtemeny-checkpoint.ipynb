{
 "cells": [
  {
   "cell_type": "code",
   "execution_count": 7,
   "metadata": {
    "scrolled": true
   },
   "outputs": [
    {
     "data": {
      "text/plain": [
       "'/home/trismegistos/Documents/DA/python'"
      ]
     },
     "execution_count": 7,
     "metadata": {},
     "output_type": "execute_result"
    }
   ],
   "source": [
    "import os\n",
    "os.getcwd()\n",
    "txt = open('','r')\n",
    "txt.read()\n",
    "#supress warnings\n",
    "import warnings\n",
    "warnings.filterwarnings('ignore')\n",
    "\n",
    "#import native way\n",
    "f=open('').read().split('\\n') #egy lista\n",
    "lists=[]\n",
    "for i in f:\n",
    "    lists.append(i.split(',')) # eveerything is string\n",
    "#import csv\n",
    "import csv\n",
    "f=open('', 'r')\n",
    "fd=csv.reader(f)\n",
    "fd=list(fd) # eveerything is string\n",
    "\n",
    "#import to np\n",
    "import numpy as np\n",
    "f=np.genfromtxt('xxx.csv',dtype='U75', skip_header=1, delimiter=',')\n",
    "#dtype=u75 unicode, nelkule float-kent akarja, igy a szoveges reszek is a helyukon maradnak\n",
    "\n",
    "#import panda\n",
    "import pandas as pd\n",
    "f=pd.read_csv('', na_values={'oszlop': [list of phrases to convert]})\n",
    "\n",
    "#import from excel\n",
    "f-pd.read_excel('filename','sheetname1')\n",
    "\n",
    "%timeit #meri a futasi idot"
   ]
  },
  {
   "cell_type": "code",
   "execution_count": null,
   "metadata": {},
   "outputs": [],
   "source": [
    "#list tricks\n",
    "ll = sorted(lists)\n",
    "ll = set(lst) # egyedi ertekek listaja a listaban\n",
    "\n",
    "\n",
    "#index/ertek meghivasa. tuple-t ad vissza\n",
    "for index,value in enumerate(lista):\n",
    "    if value in lista2:\n",
    "        print(lista2[index])\n",
    "        \n",
    "ll = [round(i, 2) for i in ll] #panda kerekites"
   ]
  },
  {
   "cell_type": "code",
   "execution_count": null,
   "metadata": {},
   "outputs": [],
   "source": [
    "#np tricks\n",
    "np.around('list', 1) #kerekites 1 tizedesre. array-t ad vissza\n",
    "np.random.randint(low=0, high=10, size=(5, 2)) # random szamsor\n",
    "vector.astype(float) # atalakitja az adattypust. NaN ha nem tudja\n",
    "w = vector.sum() /mean()/...\n",
    "\n",
    "# martix generalas listabol\n",
    "list1 = []\n",
    "list2 = []\n",
    "list3 = np.arange(2,10,2) #szamsor generalas\n",
    "arr = np.array([list1,list2,list3])\n",
    "list3.reshape(2,2)\n",
    "np.matrix.round(list3)/...\n",
    "martix[row0:row2,col0:col2] # slicing matrix\n"
   ]
  },
  {
   "cell_type": "code",
   "execution_count": null,
   "metadata": {},
   "outputs": [],
   "source": [
    "#failure avoidance\n",
    "try:\n",
    "    expretion\n",
    "except:\n",
    "    pass \n",
    "#other solution\n",
    "    expession"
   ]
  },
  {
   "cell_type": "code",
   "execution_count": null,
   "metadata": {},
   "outputs": [],
   "source": [
    "#dictionary tricks\n",
    "dick.keys()\n",
    "dick.values()\n",
    "del dick[oszlop]\n",
    "dick.pop(oszlop) #erase\n",
    "dictionary[new_key] = dictionary.pop(old_key) #atnevezes\n",
    "\n",
    "#key/value kapcsolat\n",
    "for k,v in dick.items():\n",
    "    \n",
    "#unique value counting to dictionary\n",
    "#if you dont use 'else:' first assigment have to be dick[i]=0\n",
    "#otherwise add plus one to every value\n",
    "#using 'else:' assigment is dick[i]=1"
   ]
  },
  {
   "cell_type": "code",
   "execution_count": 1,
   "metadata": {},
   "outputs": [],
   "source": [
    "#panda tricks\n",
    "import pandas as pd\n",
    "#sort, replacing the old one instead of creating a new\n",
    "df.sort_values(\"oszlop\", inplace=True, ascending=False)\n",
    "#pivoting. return a Series/or DF with title of index, name by values\n",
    "v = df.pivot_table(index=\"oszlop_by\", values=[\"oszlop_calc\", 'oszlop2'], aggfunc=np.mean)\n",
    "index=['oszlop1','oszlp2']#Multigroup pivoting, hierathical indexing\n",
    "v.query('oszlop2==['key']') #szutes\n",
    "v.loc[(key1,key2),'oszlop'] #a cella erteket adja vissz\n",
    "http://pbpython.com/pandas-pivot-table-explained.html\n",
    "https://pandas.pydata.org/pandas-docs/stable/advanced.html\n",
    "    \n",
    "#groupby calc\n",
    "v = df.groupby('oszlop').sum() / mean() etc\n",
    "df.groupby('DONOR_AGE').size() # az adott oszlop kulonbozo ertekeinek elofordulasa\n",
    "df['DONOR_AGE'].value_counts() # az adott oszlop kulonbozo ertekeinek elofordulasa\n",
    "\n",
    "#Series sort\n",
    "S.sort() #onmagaba ir vissza, nem kell valtozoba rakni kombinalva df.unique()"
   ]
  },
  {
   "cell_type": "code",
   "execution_count": null,
   "metadata": {
    "collapsed": true
   },
   "outputs": [],
   "source": [
    "#store data in dictionary\n",
    "from pandas.api.types import is_numeric_dtype #szam tipus teszteles\n",
    "dic = {}\n",
    "for i in d_csv.columns:\n",
    "    if is_numeric_dtype(d_csv[i]) #csak a szam alapu oszlopokkal dolgozik\n",
    "        dic.update({i: {'mean': d_csv.mean(),'median': d_csv.meadian()}})\n",
    "        \n",
    "#using keys\n",
    "v0 = list(dic.keys()) #listthem in list\n",
    "print('Stat: '+', '.join(v0)) #print them without bracket concat with txt\n",
    "\n",
    "#generate variables on the fly ()\n",
    "for i in uni.keys():\n",
    "    vars()[i]=countdick(data[1],i)\n",
    "    print(vars()[i])"
   ]
  },
  {
   "cell_type": "code",
   "execution_count": 50,
   "metadata": {},
   "outputs": [
    {
     "data": {
      "text/html": [
       "<div>\n",
       "<style>\n",
       "    .dataframe thead tr:only-child th {\n",
       "        text-align: right;\n",
       "    }\n",
       "\n",
       "    .dataframe thead th {\n",
       "        text-align: left;\n",
       "    }\n",
       "\n",
       "    .dataframe tbody tr th {\n",
       "        vertical-align: top;\n",
       "    }\n",
       "</style>\n",
       "<table border=\"1\" class=\"dataframe\">\n",
       "  <thead>\n",
       "    <tr style=\"text-align: right;\">\n",
       "      <th></th>\n",
       "      <th>TARGET_B</th>\n",
       "      <th>TARGET_D</th>\n",
       "      <th>FILE_AVG_GIFT</th>\n",
       "      <th>FILE_CARD_GIFT</th>\n",
       "    </tr>\n",
       "  </thead>\n",
       "  <tbody>\n",
       "    <tr>\n",
       "      <th>0</th>\n",
       "      <td>0</td>\n",
       "      <td>NaN</td>\n",
       "      <td>8.49</td>\n",
       "      <td>7</td>\n",
       "    </tr>\n",
       "    <tr>\n",
       "      <th>1</th>\n",
       "      <td>1</td>\n",
       "      <td>10.0</td>\n",
       "      <td>14.72</td>\n",
       "      <td>12</td>\n",
       "    </tr>\n",
       "  </tbody>\n",
       "</table>\n",
       "</div>"
      ],
      "text/plain": [
       "   TARGET_B  TARGET_D  FILE_AVG_GIFT  FILE_CARD_GIFT\n",
       "0         0       NaN           8.49               7\n",
       "1         1      10.0          14.72              12"
      ]
     },
     "execution_count": 50,
     "metadata": {},
     "output_type": "execute_result"
    }
   ],
   "source": [
    "import pandas as pd\n",
    "df = pd.read_csv('../pairview/assignments/Python II/Donor Raw Data.csv').head(10)\n",
    "# if the data has no column names use 'header = None'\n",
    "df.columns = ['oszlop1', 'oszlop2']\n",
    "lis_t = df isnull().sum().index \n",
    "# a soveges oszloprol is ad infot\n",
    "data.describe(include='all').transpose()\n",
    "df.count()\n",
    "df[df.columns[::-1]] #reverse order\n",
    "df[::10] #every 10th row\n",
    "col_names = df.columns.tolist() #oszlopnevek listaba\n",
    "slicing = col_names[:2] + col_names[-2:] #slicing + concatenate\n",
    "df[slicing].head(2)\n",
    "df.koc[:,'oszlo':'oszlop':2] #oszlop alice, minden masodik\n",
    "df[slicing[:2]][2:20:3] # oszlop slice + sor slice, minden 3.\n",
    "df[df['col'].str.contains('An' flags=re.IGNORECASE)][['col1','col2']]\n",
    "reindexed = df.reset_index(drop=True) #drops old index, otherwise keeps in new column\n",
    "df = df.apply(any_function, axis=1) #it goes over the columns/rows and do the function on them\n",
    "\n",
    "import numpy as np\n",
    "df.replace('mit', np.NaN) #karakter lecserelese NaN ertekre"
   ]
  },
  {
   "cell_type": "code",
   "execution_count": null,
   "metadata": {},
   "outputs": [],
   "source": [
    "###data exploration in dataframe\n",
    "df.shape\n",
    "df.describe(include='all')\n",
    "df.columns\n",
    "df.dtypes()\n",
    "df.isnull().sum()\n",
    "df['oszlop'].value_counts()\n",
    "df['oszlop'].unique() #egyedi ertekek Seriesbe\n",
    "df['oszlop'].size #hanyfele ertek van\n",
    "\n",
    "##visual\n",
    "import matplotlib.pyplot as plt\n",
    "df.hist()\n",
    "df.plot(kind='box')\n"
   ]
  },
  {
   "cell_type": "code",
   "execution_count": null,
   "metadata": {},
   "outputs": [],
   "source": [
    "###data cleaning in dataframe\n",
    "df.columns = listofcolumns # \n",
    "df[oszlop]=df[oszlop].str.replace('mit','mire')"
   ]
  },
  {
   "cell_type": "code",
   "execution_count": null,
   "metadata": {
    "collapsed": true
   },
   "outputs": [],
   "source": [
    "NetProfit = [int(i*0.7) for i in Profit]\n",
    "Profit = [rev[i] - exp[i] for i in range (len(rev))]\n",
    "#nem tiszta mikor elozi meg az if a fort. valami filterezesi e mappelesi helyzet van\n",
    "checks = [ i is not None and i >30 for i in values]\n",
    "obj = [\"Even\" if i%2==0 else \"Odd\" for i in range(10)]\n",
    "names=[k for k,v in name_counts.items() if v>=2]"
   ]
  },
  {
   "cell_type": "code",
   "execution_count": null,
   "metadata": {
    "collapsed": true
   },
   "outputs": [],
   "source": []
  },
  {
   "cell_type": "code",
   "execution_count": null,
   "metadata": {
    "collapsed": true
   },
   "outputs": [],
   "source": [
    "#DataFrame manipuation\n",
    "datum = pd.date_range('2017',freq='M', periods=12) #'D','Y'\n",
    "datum = datum.strftime('%B %Y') #%d nap, kiszedi a honapot/evet, atformazza\n",
    "df = pd.DataFrame(data=,columns=,index=datum)\n",
    "df.index = datum #index megvaltoztatasa\n",
    "df.dtypes\n",
    "del df['oszlop']\n",
    "osszevon = pd.concat([df1, dfx], axis = 1) #ures 'NA' kitoltes, oszlopokat rakja egymas melle.\n",
    "osszevon = pd.concat([df1, dfx]) #egymas ala rakja\n",
    "pd.merge(df1,df2, left_index=True, right_index=True, how='inner')\n",
    "df = df.append('df2') # a 'df2'-ot egysegkent adja hozza\n",
    "df.extend('df2') # a df2-t betunkent/elemenkent adja hozza\n",
    "df.drop('oszlop', axis = 1) #['oszlop1', 'oszlop2']\n",
    "pd.to_numeric(df['oszlop'])\n",
    "df.iloc([2,4,6]) # listazok sorok megjelenitese, szamolas alapjan. listaban is megadhato\n",
    "df.loc() #az index erteke alapja\n",
    "df.at[5,'col'] #matrix tipusi cella ertek kiiras index/oszlopnev alapjan\n",
    "df.iat[4,5] #sor/oszlop leszamolasaval adja a cellaerteket\n",
    "df.loc[(df['col1'] <= 10) & (df['col2'].str.contains('A'))]\n",
    "df['oszlop'][index] # kiirja a erteket\n",
    "df.loc[df['H'].notnull()] # .isnull() sorok melyek nem uresek/uresek\n",
    "first_row_first_column = df.iloc[0,0]\n",
    "all_rows_first_three_columns = df.iloc[:,0:3]\n",
    "row_index_83_in_age = df.loc[83,\"age\"]\n",
    "row_index_766_in_pclass = df.loc[766,\"pclass\"]\n",
    "df[oszlop].cat.categories #listaba rakja a categoria ertekeket"
   ]
  },
  {
   "cell_type": "code",
   "execution_count": null,
   "metadata": {
    "collapsed": true
   },
   "outputs": [],
   "source": [
    "#random dataframe\n",
    "df2 = pd.DataFrame(np.random.randint(low=0, high=10, size=(5, 2)), \\\n",
    "                   columns=['a', 'b'])\n",
    "df2['b'][2] ='ff'"
   ]
  },
  {
   "cell_type": "code",
   "execution_count": null,
   "metadata": {},
   "outputs": [],
   "source": [
    "#datetime\n",
    "import datetime as dtt\n",
    "#datum lista letrehozasa ev oszlopbol es honap oszlopbol egy adatbazisban. \n",
    "#a nap konretan meg van adva\n",
    "dates = [ dtt.datetime(year=int(i[1]), month=int(i[2]), day=1) for i in data[1]]"
   ]
  },
  {
   "cell_type": "code",
   "execution_count": null,
   "metadata": {
    "collapsed": true
   },
   "outputs": [],
   "source": [
    "#data transformation\n",
    "#bin the daily data - works only with datetime index\n",
    "bike = read.resample('d').sum()"
   ]
  },
  {
   "cell_type": "code",
   "execution_count": null,
   "metadata": {
    "collapsed": true
   },
   "outputs": [],
   "source": [
    "#missing value manipulation\n",
    "df.isnull().sum()\n",
    "df.mean()\n",
    "df.median()\n",
    "df.mode()\n",
    "df.fillna(df.mean())\n",
    "df.dropna(axis=0, subset=['oszlop1','oszlop2']) #1: oszlop, 0: sor subset csak sornal van erteleme\n",
    "given_values = {'1.col': 'w', '2.col': 2}\n",
    "df.fillna(value=given_values) #az adott oszlop ertekeit  megdott ertkre csereli egy mentetben, oszlopspecifikusan\n",
    "df [df['oszlop'] < 0] = 0 # a negative ertekeket 0 ra csereli a teljes dataframe-ben\n",
    "df.loc[df['oszlop'] < 0, 'oszlop'] = 0 # az adott oszlopra korlatozza a cseret\n",
    "#adat transformacio szoveg kategoria ertekke\n",
    "df = pd.get_dummies(df, columns=['','']) \n",
    "df = pd.factorize(df['oszlop'])[0]\n",
    "\n",
    "#csv-bol nested lista kezelesre\n",
    "for i in listoflists:\n",
    "    if i[4] is None:\n",
    "        i[4] = 'M'"
   ]
  },
  {
   "cell_type": "code",
   "execution_count": null,
   "metadata": {
    "collapsed": true
   },
   "outputs": [],
   "source": [
    "from matplotlib import pyplot as plt\n",
    "%matplotlib inline\n",
    "plt.rcParams[figure.figsize]= 8,4\n",
    "plt.bar(DSplotKey,DSplotValue, color='red') #x tengely, y tengely, lista\n",
    "plt.bar(DSMean,DSplotValue,color='blue') # de az X lehet egy ertek is\n",
    "plt.bar(DSMedian,DSplotValue,color='green')\n",
    "#a color listabol is behivhato, igy mas mas szint adhatunk meg az oszlopoknak\n",
    "plt.xlabel('szoveg')\n",
    "plt.xticks(range(9), list, color='') # ha listabol kulon akarjuk behivni az ertekeket\n",
    "#a szam megjelenites int() kell megadni. ha str() van kkor rossz lesz a sorrend\n",
    "plt.show() #barchart 3 grafikonnal\n",
    "\n",
    "#egyszeru oszlop diagram azonnal megjelenik\n",
    "DS.hist('oszlop')\n",
    "DS.hist('oszlop1', 'oszlop2') # az oszlop1 az oszlop2 felbontasaban\n",
    "plt.show\n",
    "DS.hist(bins=10) #continuous var groupping to 10 bins\n",
    "plt.hist(df[''], scacked=True, rwidth=0.9) #emeletes histo, for ciklussal erdemes\n",
    "#whiskers and box\n",
    "DS['oszlop'].plot(kind='box', subplots=True, layout=(1,1), sharex=False, sharey=False, figsize=(9,5))\n",
    "plt.show()\n",
    "DS.boxplot() vagy DS.plot(kind='box')\n",
    "DS.plot(kind='line', color='') #color nev vagy RGB\n",
    "plt.plot(adat, c='color', ls='-.-')\n",
    "plt.subplots_adjust(left=None, bottom=None, right=None, top=None, wspace=None, hspace=None) #rendering plots\n",
    "\n",
    "#scatter plot trukk for ciklusban az oszlopnevek alapjan ad egy attekintest.\n",
    "#informativabb mint a box plot\n",
    "for i in data.columns:\n",
    "    plt.scatter(data[i].value_counts().index,data[i].value_counts().values)\n",
    "    print(i)\n",
    "    plt.show()"
   ]
  },
  {
   "cell_type": "code",
   "execution_count": null,
   "metadata": {},
   "outputs": [],
   "source": [
    "#matplotlib subplots\n",
    "fig, ax = plt.subplots(2,3, figsize=(10,6))\n",
    "\n",
    "# version 1\n",
    "    # for scatter\n",
    "ax[0].scatter(x,y, c='Red', s=3)\n",
    "ax[0,2].set_xlabel/set_title\n",
    "ax[1].scatter(...)\n",
    "\n",
    "#change axis for a particular graph\n",
    "plt.sca(ax[1,2])\n",
    "plt.xticks([list of value points], [list of labels], color=, rotation=)\n",
    "\n",
    "#version 2\n",
    "    #ex: seaborn\n",
    "k1 = sns.kdeplot(x,y, ax=ax[0,2])"
   ]
  },
  {
   "cell_type": "code",
   "execution_count": 1,
   "metadata": {
    "collapsed": true
   },
   "outputs": [
    {
     "ename": "NameError",
     "evalue": "name 'df' is not defined",
     "output_type": "error",
     "traceback": [
      "\u001b[0;31m---------------------------------------------------------------------------\u001b[0m",
      "\u001b[0;31mNameError\u001b[0m                                 Traceback (most recent call last)",
      "\u001b[0;32m<ipython-input-1-8c2ee87ec7ce>\u001b[0m in \u001b[0;36m<module>\u001b[0;34m()\u001b[0m\n\u001b[1;32m      2\u001b[0m \u001b[0;32mimport\u001b[0m \u001b[0mmatplotlib\u001b[0m\u001b[0;34m.\u001b[0m\u001b[0mpyplot\u001b[0m \u001b[0;32mas\u001b[0m \u001b[0mplt\u001b[0m\u001b[0;34m\u001b[0m\u001b[0m\n\u001b[1;32m      3\u001b[0m \u001b[0;32mimport\u001b[0m \u001b[0mseaborn\u001b[0m \u001b[0;32mas\u001b[0m \u001b[0msns\u001b[0m \u001b[0;31m#extension of matplotlib\u001b[0m\u001b[0;34m\u001b[0m\u001b[0m\n\u001b[0;32m----> 4\u001b[0;31m \u001b[0msns\u001b[0m\u001b[0;34m.\u001b[0m\u001b[0mdistplot\u001b[0m\u001b[0;34m(\u001b[0m\u001b[0mdf\u001b[0m\u001b[0;34m[\u001b[0m\u001b[0mcolumn\u001b[0m\u001b[0;34m]\u001b[0m\u001b[0;34m)\u001b[0m\u001b[0;34m\u001b[0m\u001b[0m\n\u001b[0m\u001b[1;32m      5\u001b[0m \u001b[0msns\u001b[0m\u001b[0;34m.\u001b[0m\u001b[0mjointplot\u001b[0m\u001b[0;34m(\u001b[0m\u001b[0mx\u001b[0m\u001b[0;34m,\u001b[0m\u001b[0my\u001b[0m\u001b[0;34m,\u001b[0m \u001b[0mkind\u001b[0m\u001b[0;34m=\u001b[0m\u001b[0;34m'hex'\u001b[0m\u001b[0;34m)\u001b[0m\u001b[0;34m\u001b[0m\u001b[0m\n\u001b[1;32m      6\u001b[0m \u001b[0msns\u001b[0m\u001b[0;34m.\u001b[0m\u001b[0mkdeplot\u001b[0m\u001b[0;34m(\u001b[0m\u001b[0mx\u001b[0m\u001b[0;34m,\u001b[0m\u001b[0my\u001b[0m\u001b[0;34m,\u001b[0m \u001b[0mshade\u001b[0m\u001b[0;34m=\u001b[0m\u001b[0;32mTrue\u001b[0m\u001b[0;34m)\u001b[0m\u001b[0;34m\u001b[0m\u001b[0m\n",
      "\u001b[0;31mNameError\u001b[0m: name 'df' is not defined"
     ]
    }
   ],
   "source": [
    "#Seaborn visualisation\n",
    "import matplotlib.pyplot as plt\n",
    "import seaborn as sns #extension of matplotlib\n",
    "sns.distplot(df[column])\n",
    "sns.boxplot(data=,x=,y=)\n",
    "sns.jointplot(x,y, kind='hex')\n",
    "sns.kdeplot(x,y, shade=True)\n",
    "sns.lmplot(x,y, hue=categories)\n",
    "sns.violinplot(data,x,y) #more visual then boxplot\n",
    "\n",
    "#FacetGrid\n",
    "kws = dict(s=25, linewidth=0.5, edgecolor='black') #ez a set a pottyoket allitja be\n",
    "g=sns.FacetGrid(data, row='oszlop1', col='oszlop2', hue='oszlop1', kws)\n",
    "g = g.map(plt.scatter, 'oszlop1', 'oszlop2', **kws) #egyeb plottal is dolgozik"
   ]
  },
  {
   "cell_type": "code",
   "execution_count": null,
   "metadata": {
    "collapsed": true
   },
   "outputs": [],
   "source": [
    "#correlation check\n",
    "df.corr()\n",
    "import scipy.stats as sp\n",
    "p = df.pearsonr(col1,col2); p[0], p[1] #correltaion, P-value\n",
    "s = df.spearmanr(col1,col2); s[0]  s[1]\n",
    "k = df.kendalltau(col1,col2); k[0] k[1]"
   ]
  },
  {
   "cell_type": "code",
   "execution_count": null,
   "metadata": {
    "collapsed": true
   },
   "outputs": [],
   "source": [
    "#simple linear regression\n",
    "import statsmodels.formula.api as smf\n",
    "linreg = smf.ols(' Salary ~ YearsExperience ', data=data).fit()\n",
    "linreg.summary()"
   ]
  },
  {
   "cell_type": "code",
   "execution_count": null,
   "metadata": {
    "collapsed": true
   },
   "outputs": [],
   "source": [
    "#adat felosztas az algoritmus elesitesere\n",
    "from sklearn.cross_validation import train_test_split\n",
    "X_train, X_test, y_train, y_test = train_test_split(X,y, test_size = 0.5, random_state = 42)\n",
    "# size a megoszlasi arany a train es a test kozott\n",
    "print('X train shape: %s' % str(X_train.shape))"
   ]
  },
  {
   "cell_type": "code",
   "execution_count": null,
   "metadata": {
    "collapsed": true
   },
   "outputs": [],
   "source": [
    "#random forest\n",
    "from sklearn.ensemble import RandomForestClassifier\n",
    "randForest = RandomForestClassifier(n_estimators=25, min_samples_split= 25, max_depth= 7,\n",
    "                                    max_features= 1)\n",
    "randForest.fit(X_train, y_train) #  classification rule\n",
    "y_pred_RF = randForest.predict(X_test) # checking the classification rule\n",
    "\n",
    "    # ertekeles\n",
    "from sklearn.metrics import accuracy_score\n",
    "randForestScore = accuracy_score(y_test, y_pred_RF) # osszehasonlito pontertek\n",
    "pd.crosstab(y_test, y_pred_RF,rownames=['Actual'], colnames= ['Predicted']) # contigency matrix valos ertekekkel\n",
    "\n",
    "    # ismeretlen adat besorolasa\n",
    "ujadat_RF = randForest.predict(ujadat) #eredmeny egy csoport eretek"
   ]
  },
  {
   "cell_type": "code",
   "execution_count": null,
   "metadata": {
    "collapsed": true
   },
   "outputs": [],
   "source": [
    "#adat exportalas DataFrame-bol\n",
    "import csv\n",
    "df.to_csv('filename.csv', sep= '\\t', index= True) # megtartja az index-t, False elveti az index-t\n",
    "\n",
    "#export to excel\n",
    "df.to_excel('filename', sheet_name= 'sheetname', index=False, startrow=1,startcol=2) #position where to put the df\n",
    "#export multiple df to separate excel sheets\n",
    "with pd.ExcelWriter('filename') as writer:\n",
    "    df1.to_excel(writer, sheetname='')\n",
    "    df2.to_excel(writer, sheetname='')\n",
    "#append data to excel sheet\n",
    "from openpyxl import load_workbook\n",
    "book = load_workbook('movie.xlsx')\n",
    "writer = pd.ExcelWriter('movie.xlsx', engine='openpyxl') \n",
    "writer.book = book\n",
    "writer.sheets = dict((ws.title, ws) for ws in book.worksheets)\n",
    "\n",
    "df.to_excel(writer, \"originalsheet\", header=False, startrow=3)\n",
    "\n",
    "writer.save()\n",
    "    \n",
    "#export plot \n",
    "plt.savefig('filename', transparent=True, bbox_inches='tight', dpi=120)"
   ]
  }
 ],
 "metadata": {
  "kernelspec": {
   "display_name": "Python 3",
   "language": "python",
   "name": "python3"
  },
  "language_info": {
   "codemirror_mode": {
    "name": "ipython",
    "version": 3
   },
   "file_extension": ".py",
   "mimetype": "text/x-python",
   "name": "python",
   "nbconvert_exporter": "python",
   "pygments_lexer": "ipython3",
   "version": "3.6.4"
  }
 },
 "nbformat": 4,
 "nbformat_minor": 2
}
