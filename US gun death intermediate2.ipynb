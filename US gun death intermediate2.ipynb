{
 "cells": [
  {
   "cell_type": "code",
   "execution_count": null,
   "metadata": {},
   "outputs": [],
   "source": [
    "#gunshot death from 'full_data.csv'"
   ]
  },
  {
   "cell_type": "code",
   "execution_count": 2,
   "metadata": {},
   "outputs": [],
   "source": [
    "import csv"
   ]
  },
  {
   "cell_type": "code",
   "execution_count": 3,
   "metadata": {},
   "outputs": [
    {
     "data": {
      "text/plain": [
       "['', '']"
      ]
     },
     "execution_count": 3,
     "metadata": {},
     "output_type": "execute_result"
    }
   ],
   "source": [
    "f=open('full_data.csv','r')\n",
    "dt=list(csv.reader(f))\n",
    "dt.extend(['',''])\n",
    "dt[-2:]"
   ]
  },
  {
   "cell_type": "code",
   "execution_count": 4,
   "metadata": {},
   "outputs": [],
   "source": [
    "def trim(f=dt):\n",
    "    print('orginal length: %d' % len(dt))\n",
    "    n=0\n",
    "    while n<10:\n",
    "        if f[0][1] == '':\n",
    "            f=f[1:]\n",
    "        else: \n",
    "            break\n",
    "\n",
    "        n+=1\n",
    "    print('fejlecbol levagva: %d' %n)\n",
    "    n=0\n",
    "    while n < 10:\n",
    "        if f[-1] == '':\n",
    "            f=f[:-1]\n",
    "        else: break\n",
    "        n+=1\n",
    "    print('vegerol levagva: %d' % n)\n",
    "    print('final length: %d' % len(f))\n",
    "    return f\n"
   ]
  },
  {
   "cell_type": "code",
   "execution_count": 5,
   "metadata": {},
   "outputs": [
    {
     "name": "stdout",
     "output_type": "stream",
     "text": [
      "orginal length: 100801\n",
      "fejlecbol levagva: 0\n",
      "vegerol levagva: 2\n",
      "final length: 100799\n"
     ]
    }
   ],
   "source": [
    "data = trim()"
   ]
  },
  {
   "cell_type": "code",
   "execution_count": 6,
   "metadata": {},
   "outputs": [],
   "source": [
    "#header listaba\n",
    "def hd(f=data):\n",
    "    h = f[0]\n",
    "    d = f[1:]\n",
    "    print('adathossz: %d' % len(d) )\n",
    "    return h,d\n"
   ]
  },
  {
   "cell_type": "code",
   "execution_count": 7,
   "metadata": {},
   "outputs": [
    {
     "name": "stdout",
     "output_type": "stream",
     "text": [
      "adathossz: 100798\n"
     ]
    }
   ],
   "source": [
    "#data list header 1st list separate\n",
    "data = hd()"
   ]
  },
  {
   "cell_type": "code",
   "execution_count": 8,
   "metadata": {},
   "outputs": [],
   "source": [
    "def unique(f=data):\n",
    "    dick = {}\n",
    "    hd = f[0][1:]\n",
    "    f=f[1]\n",
    "    \n",
    "    for idx,v in enumerate(hd):\n",
    "        n=1\n",
    "        while n < len(hd):\n",
    "            l = [i[idx+1] for i in f]\n",
    "            dick[v] = set(l)\n",
    "            n+=1\n",
    "    return dick\n"
   ]
  },
  {
   "cell_type": "code",
   "execution_count": 9,
   "metadata": {},
   "outputs": [
    {
     "data": {
      "text/plain": [
       "dict_keys(['year', 'month', 'intent', 'police', 'sex', 'age', 'race', 'hispanic', 'place', 'education'])"
      ]
     },
     "execution_count": 9,
     "metadata": {},
     "output_type": "execute_result"
    }
   ],
   "source": [
    "uni = unique()\n",
    "uni.keys()"
   ]
  },
  {
   "cell_type": "code",
   "execution_count": 10,
   "metadata": {},
   "outputs": [
    {
     "name": "stdout",
     "output_type": "stream",
     "text": [
      "{'2012', '2014', '2013'}\n",
      "{'02', '03', '08', '11', '10', '04', '01', '07', '09', '05', '06', '12'}\n",
      "{'Accidental', 'Homicide', 'NA', 'Suicide', 'Undetermined'}\n",
      "{'0', '1'}\n",
      "{'M', 'F'}\n",
      "{'44', '77', '58', '41', '6', '56', '29', '27', '84', '45', '22', '7', '13', '96', '0', '102', '64', '70', '9', '36', '34', '89', '4', '78', '107', '8', '86', '43', '55', '38', '101', '57', 'NA', '99', '60', '73', '3', '69', '5', '71', '75', '79', '32', '15', '97', '62', '14', '85', '94', '42', '48', '93', '31', '19', '68', '83', '47', '39', '63', '12', '81', '59', '76', '23', '28', '67', '30', '33', '26', '2', '50', '61', '52', '82', '10', '91', '87', '20', '11', '49', '72', '17', '21', '90', '16', '100', '46', '25', '37', '80', '18', '66', '54', '88', '24', '92', '35', '74', '53', '1', '40', '51', '98', '95', '65'}\n",
      "{'Hispanic', 'Black', 'Asian/Pacific Islander', 'White', 'Native American/Native Alaskan'}\n",
      "{'242', '238', '225', '224', '998', '220', '299', '211', '200', '271', '234', '291', '280', '222', '261', '233', '270', '100', '260', '237', '209', '231', '232', '226', '235', '221', '212', '239', '210', '282', '281', '227', '250', '275', '252', '218', '223', '217', '286'}\n",
      "{'Trade/service area', 'Street', 'Farm', 'School/instiution', 'NA', 'Home', 'Sports', 'Residential institution', 'Other specified', 'Industrial/construction', 'Other unspecified'}\n",
      "{'HS/GED', 'Some college', 'NA', 'BA+', 'Less than HS'}\n"
     ]
    }
   ],
   "source": [
    "#egyedi ertekek oszloponkent. \n",
    "#attekintest ad az ertekek allapotarol\n",
    "for i in uni:\n",
    "    print(uni[i])"
   ]
  },
  {
   "cell_type": "code",
   "execution_count": 11,
   "metadata": {},
   "outputs": [
    {
     "data": {
      "text/plain": [
       "['2',\n",
       " '2012',\n",
       " '01',\n",
       " 'Suicide',\n",
       " '0',\n",
       " 'F',\n",
       " '21',\n",
       " 'White',\n",
       " '100',\n",
       " 'Street',\n",
       " 'Some college',\n",
       " datetime.datetime(2012, 1, 1, 0, 0)]"
      ]
     },
     "execution_count": 11,
     "metadata": {},
     "output_type": "execute_result"
    }
   ],
   "source": [
    "#date adat generation for timewise calcuation\n",
    "import datetime as dtt\n",
    "#in separate list\n",
    "dates = [dtt.datetime(year=int(i[1]), month=int(i[2]), day=1) for i in data[1]]\n",
    "#added to the original data\n",
    "for i in data[1]:\n",
    "    d = dtt.datetime(year=int(i[1]),month=int(i[2]),day=1)\n",
    "    i.append(d)\n",
    "\n",
    "data[1][1]"
   ]
  },
  {
   "cell_type": "code",
   "execution_count": 12,
   "metadata": {},
   "outputs": [
    {
     "data": {
      "text/plain": [
       "100798"
      ]
     },
     "execution_count": 12,
     "metadata": {},
     "output_type": "execute_result"
    }
   ],
   "source": [
    "len(data[1])"
   ]
  },
  {
   "cell_type": "code",
   "execution_count": 13,
   "metadata": {},
   "outputs": [
    {
     "data": {
      "text/plain": [
       "['',\n",
       " 'year',\n",
       " 'month',\n",
       " 'intent',\n",
       " 'police',\n",
       " 'sex',\n",
       " 'age',\n",
       " 'race',\n",
       " 'hispanic',\n",
       " 'place',\n",
       " 'education',\n",
       " 'date']"
      ]
     },
     "execution_count": 13,
     "metadata": {},
     "output_type": "execute_result"
    }
   ],
   "source": [
    "data[0].append('date')\n",
    "#data[0]=data[0][:-5]\n",
    "data[0]"
   ]
  },
  {
   "cell_type": "code",
   "execution_count": 14,
   "metadata": {},
   "outputs": [],
   "source": [
    "#kiszamolja a egyedi ertekek elofordulasat a megadott oszlopban\n",
    "def countdick(f=data[1], v='year'):\n",
    "    dick={}\n",
    "    for idx, val in enumerate(data[0]):\n",
    "        if v == val:\n",
    "            n = idx\n",
    "            for r in data[1]:\n",
    "                if r[n] not in dick:\n",
    "                    dick[r[n]] = 0\n",
    "                dick[r[n]] +=1\n",
    "    return dick\n"
   ]
  },
  {
   "cell_type": "code",
   "execution_count": 15,
   "metadata": {},
   "outputs": [
    {
     "data": {
      "text/plain": [
       "{'2012': 33563, '2013': 33636, '2014': 33599}"
      ]
     },
     "execution_count": 15,
     "metadata": {},
     "output_type": "execute_result"
    }
   ],
   "source": [
    "#egyedileg is behihato\n",
    "year = countdick()\n",
    "year"
   ]
  },
  {
   "cell_type": "code",
   "execution_count": 16,
   "metadata": {},
   "outputs": [],
   "source": [
    "#letrehoz egy-egy dictionary-t az oszlop nevevel\n",
    "#es leszamolja az egyedi ertekek elofordulasat\n",
    "#az oszlop nevevel meghivhato a dictionary\n",
    "for i in data[0]:\n",
    "    vars()[i]=countdick(data[1],i)\n",
    "    #print(vars()[i])"
   ]
  },
  {
   "cell_type": "code",
   "execution_count": 17,
   "metadata": {},
   "outputs": [
    {
     "data": {
      "text/plain": [
       "{'0': 99396, '1': 1402}"
      ]
     },
     "execution_count": 17,
     "metadata": {},
     "output_type": "execute_result"
    }
   ],
   "source": [
    "police"
   ]
  },
  {
   "cell_type": "code",
   "execution_count": 18,
   "metadata": {},
   "outputs": [
    {
     "data": {
      "text/plain": [
       "100798"
      ]
     },
     "execution_count": 18,
     "metadata": {},
     "output_type": "execute_result"
    }
   ],
   "source": [
    "year\n",
    "y_count = 0\n",
    "for i in year:\n",
    "    y_count= y_count +year[i] \n",
    "y_count"
   ]
  },
  {
   "cell_type": "code",
   "execution_count": 19,
   "metadata": {},
   "outputs": [
    {
     "data": {
      "text/plain": [
       "dict_keys(['year', 'month', 'intent', 'police', 'sex', 'age', 'race', 'hispanic', 'place', 'education'])"
      ]
     },
     "execution_count": 19,
     "metadata": {},
     "output_type": "execute_result"
    }
   ],
   "source": [
    "uni.keys()"
   ]
  },
  {
   "cell_type": "code",
   "execution_count": 20,
   "metadata": {},
   "outputs": [
    {
     "data": {
      "text/plain": [
       "{'Asian/Pacific Islander': 1326,\n",
       " 'Black': 23296,\n",
       " 'Hispanic': 9022,\n",
       " 'Native American/Native Alaskan': 917,\n",
       " 'White': 66237}"
      ]
     },
     "execution_count": 20,
     "metadata": {},
     "output_type": "execute_result"
    }
   ],
   "source": [
    "race"
   ]
  },
  {
   "cell_type": "code",
   "execution_count": 21,
   "metadata": {},
   "outputs": [
    {
     "data": {
      "text/plain": [
       "{datetime.datetime(2012, 1, 1, 0, 0): 2758,\n",
       " datetime.datetime(2012, 2, 1, 0, 0): 2357,\n",
       " datetime.datetime(2012, 3, 1, 0, 0): 2743,\n",
       " datetime.datetime(2012, 4, 1, 0, 0): 2795,\n",
       " datetime.datetime(2012, 5, 1, 0, 0): 2999,\n",
       " datetime.datetime(2012, 6, 1, 0, 0): 2826,\n",
       " datetime.datetime(2012, 7, 1, 0, 0): 3026,\n",
       " datetime.datetime(2012, 8, 1, 0, 0): 2954,\n",
       " datetime.datetime(2012, 9, 1, 0, 0): 2852,\n",
       " datetime.datetime(2012, 10, 1, 0, 0): 2733,\n",
       " datetime.datetime(2012, 11, 1, 0, 0): 2729,\n",
       " datetime.datetime(2012, 12, 1, 0, 0): 2791,\n",
       " datetime.datetime(2013, 1, 1, 0, 0): 2864,\n",
       " datetime.datetime(2013, 2, 1, 0, 0): 2375,\n",
       " datetime.datetime(2013, 3, 1, 0, 0): 2862,\n",
       " datetime.datetime(2013, 4, 1, 0, 0): 2798,\n",
       " datetime.datetime(2013, 5, 1, 0, 0): 2806,\n",
       " datetime.datetime(2013, 6, 1, 0, 0): 2920,\n",
       " datetime.datetime(2013, 7, 1, 0, 0): 3079,\n",
       " datetime.datetime(2013, 8, 1, 0, 0): 2859,\n",
       " datetime.datetime(2013, 9, 1, 0, 0): 2742,\n",
       " datetime.datetime(2013, 10, 1, 0, 0): 2808,\n",
       " datetime.datetime(2013, 11, 1, 0, 0): 2758,\n",
       " datetime.datetime(2013, 12, 1, 0, 0): 2765,\n",
       " datetime.datetime(2014, 1, 1, 0, 0): 2651,\n",
       " datetime.datetime(2014, 2, 1, 0, 0): 2361,\n",
       " datetime.datetime(2014, 3, 1, 0, 0): 2684,\n",
       " datetime.datetime(2014, 4, 1, 0, 0): 2862,\n",
       " datetime.datetime(2014, 5, 1, 0, 0): 2864,\n",
       " datetime.datetime(2014, 6, 1, 0, 0): 2931,\n",
       " datetime.datetime(2014, 7, 1, 0, 0): 2884,\n",
       " datetime.datetime(2014, 8, 1, 0, 0): 2970,\n",
       " datetime.datetime(2014, 9, 1, 0, 0): 2914,\n",
       " datetime.datetime(2014, 10, 1, 0, 0): 2865,\n",
       " datetime.datetime(2014, 11, 1, 0, 0): 2756,\n",
       " datetime.datetime(2014, 12, 1, 0, 0): 2857}"
      ]
     },
     "execution_count": 21,
     "metadata": {},
     "output_type": "execute_result"
    }
   ],
   "source": [
    "dates_count = {}\n",
    "for i in dates:\n",
    "    if i not in dates_count:\n",
    "        dates_count[i] = 1\n",
    "    else:\n",
    "        dates_count[i] += 1\n",
    "dates_count"
   ]
  },
  {
   "cell_type": "code",
   "execution_count": 22,
   "metadata": {},
   "outputs": [],
   "source": [
    "#demographic rations\n",
    "demo = {\n",
    "    \"Asian/Pacific Islander\": 15159516 + 674625,\n",
    "    \"Native American/Native Alaskan\": 3739506,\n",
    "    \"Black\": 40250635,\n",
    "    \"Hispanic\": 44618105,\n",
    "    \"White\": 197318956\n",
    "}"
   ]
  },
  {
   "cell_type": "code",
   "execution_count": 23,
   "metadata": {},
   "outputs": [
    {
     "data": {
      "text/plain": [
       "{'Asian/Pacific Islander': 1326,\n",
       " 'Black': 23296,\n",
       " 'Hispanic': 9022,\n",
       " 'Native American/Native Alaskan': 917,\n",
       " 'White': 66237}"
      ]
     },
     "execution_count": 23,
     "metadata": {},
     "output_type": "execute_result"
    }
   ],
   "source": [
    "race"
   ]
  },
  {
   "cell_type": "code",
   "execution_count": 24,
   "metadata": {},
   "outputs": [],
   "source": [
    "#demographic correction of death occurance\n",
    "def demogrph(n=100000):\n",
    "    dick = {}\n",
    "    for key, val in race.items():\n",
    "        for k,v in demo.items():\n",
    "            if key == k:\n",
    "                d = int(race[key]/(demo[k]/n))\n",
    "                dick[key] = d\n",
    "    return dick\n"
   ]
  },
  {
   "cell_type": "code",
   "execution_count": 25,
   "metadata": {},
   "outputs": [
    {
     "data": {
      "text/plain": [
       "{'Asian/Pacific Islander': 83,\n",
       " 'Black': 578,\n",
       " 'Hispanic': 202,\n",
       " 'Native American/Native Alaskan': 245,\n",
       " 'White': 335}"
      ]
     },
     "execution_count": 25,
     "metadata": {},
     "output_type": "execute_result"
    }
   ],
   "source": [
    "race_dgraph = demogrph(n=1000000)\n",
    "race_dgraph"
   ]
  },
  {
   "cell_type": "code",
   "execution_count": 26,
   "metadata": {},
   "outputs": [
    {
     "ename": "SyntaxError",
     "evalue": "invalid syntax (<ipython-input-26-cbd5fe19d00c>, line 5)",
     "output_type": "error",
     "traceback": [
      "\u001b[0;36m  File \u001b[0;32m\"<ipython-input-26-cbd5fe19d00c>\"\u001b[0;36m, line \u001b[0;32m5\u001b[0m\n\u001b[0;31m    if\u001b[0m\n\u001b[0m       ^\u001b[0m\n\u001b[0;31mSyntaxError\u001b[0m\u001b[0;31m:\u001b[0m invalid syntax\n"
     ]
    }
   ],
   "source": [
    "#intetional distribution by race\n",
    "\n",
    "for k ,v in (data[0]):\n",
    "    for i in data[1]:\n",
    "        if "
   ]
  },
  {
   "cell_type": "code",
   "execution_count": 27,
   "metadata": {},
   "outputs": [],
   "source": [
    "import matplotlib.pyplot as plt\n",
    "%matplotlib inline"
   ]
  },
  {
   "cell_type": "code",
   "execution_count": 28,
   "metadata": {},
   "outputs": [
    {
     "data": {
      "image/png": "[encoded data removed]",
      "text/plain": [
       "<matplotlib.figure.Figure at 0x7fe787f09358>"
      ]
     },
     "metadata": {},
     "output_type": "display_data"
    }
   ],
   "source": [
    "#nem mukodik meg\n",
    "x = list(intent.keys())\n",
    "y = intent.values()\n",
    "plt.bar(x,y)\n",
    "plt.show()"
   ]
  },
  {
   "cell_type": "code",
   "execution_count": null,
   "metadata": {},
   "outputs": [],
   "source": []
  },
  {
   "cell_type": "code",
   "execution_count": null,
   "metadata": {},
   "outputs": [],
   "source": []
  }
 ],
 "metadata": {
  "kernelspec": {
   "display_name": "Python 3",
   "language": "python",
   "name": "python3"
  },
  "language_info": {
   "codemirror_mode": {
    "name": "ipython",
    "version": 3
   },
   "file_extension": ".py",
   "mimetype": "text/x-python",
   "name": "python",
   "nbconvert_exporter": "python",
   "pygments_lexer": "ipython3",
   "version": "3.6.4"
  }
 },
 "nbformat": 4,
 "nbformat_minor": 2
}
