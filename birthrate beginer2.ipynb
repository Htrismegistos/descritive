{
 "cells": [
  {
   "cell_type": "code",
   "execution_count": 28,
   "metadata": {},
   "outputs": [],
   "source": [
    "f=open('birthrates.csv','r').read().split('\\n')"
   ]
  },
  {
   "cell_type": "code",
   "execution_count": 29,
   "metadata": {},
   "outputs": [],
   "source": [
    "def trim(f=f):\n",
    "    for idx, val in enumerate(f):\n",
    "        if val == '':\n",
    "            f=f[idx+1:]\n",
    "        else: \n",
    "            break\n",
    "    for idx, val in enumerate(f):\n",
    "        if val == '':\n",
    "            f = f[:idx]\n",
    "    return f"
   ]
  },
  {
   "cell_type": "code",
   "execution_count": 30,
   "metadata": {},
   "outputs": [],
   "source": [
    "dt = trim(f=f)"
   ]
  },
  {
   "cell_type": "code",
   "execution_count": 35,
   "metadata": {},
   "outputs": [],
   "source": [
    "def splt(f):\n",
    "    d =[i.split(',') for i in f]\n",
    "    hd = d[0]\n",
    "    d = d[1:]\n",
    "    return hd,d\n",
    "        "
   ]
  },
  {
   "cell_type": "markdown",
   "metadata": {},
   "source": [
    "#alternative solution with while cycle\n",
    "def splt(f):\n",
    "    l = [i.split(',') for i in f]\n",
    "    i=0\n",
    "    while i < len(l):\n",
    "        if l[i][0]=='':\n",
    "            l=l[1:]        \n",
    "        else:\n",
    "            print(i)\n",
    "            break\n",
    "        i+=1\n",
    "    i=len(l)\n",
    "    while i >= len(l): \n",
    "        print (i)\n",
    "        if l[i-1][0]=='':\n",
    "            l=l[:-1]\n",
    "        else:\n",
    "            break\n",
    "        \n",
    "        i-=1\n",
    "    hd = l[0]\n",
    "    dt = l[1:]\n",
    "    return hd,dt"
   ]
  },
  {
   "cell_type": "code",
   "execution_count": 36,
   "metadata": {},
   "outputs": [
    {
     "data": {
      "text/plain": [
       "['year', 'month', 'date_of_month', 'day_of_week', 'births']"
      ]
     },
     "execution_count": 36,
     "metadata": {},
     "output_type": "execute_result"
    }
   ],
   "source": [
    "data = splt(dt)\n",
    "data[0]"
   ]
  },
  {
   "cell_type": "code",
   "execution_count": 37,
   "metadata": {},
   "outputs": [
    {
     "data": {
      "text/plain": [
       "['1994', '1', '1', '6', '8096']"
      ]
     },
     "execution_count": 37,
     "metadata": {},
     "output_type": "execute_result"
    }
   ],
   "source": [
    "data[1][0]"
   ]
  },
  {
   "cell_type": "code",
   "execution_count": 42,
   "metadata": {},
   "outputs": [],
   "source": [
    "def cnt(f,hd,v):\n",
    "    dick = {}\n",
    "    for idx, val in enumerate(hd):\n",
    "        if v == val:\n",
    "            for i in f:\n",
    "                if i[idx] not in dick:\n",
    "                    dick[i[idx]] = int(i[-1])\n",
    "                else:\n",
    "                    dick[i[idx]] += int(i[-1])\n",
    "    return dick\n",
    "\n",
    "    "
   ]
  },
  {
   "cell_type": "code",
   "execution_count": 43,
   "metadata": {},
   "outputs": [
    {
     "data": {
      "text/plain": [
       "{'1994': 3952767,\n",
       " '1995': 3899589,\n",
       " '1996': 3891494,\n",
       " '1997': 3880894,\n",
       " '1998': 3941553,\n",
       " '1999': 3959417,\n",
       " '2000': 4058814,\n",
       " '2001': 4025933,\n",
       " '2002': 4021726,\n",
       " '2003': 4089950}"
      ]
     },
     "execution_count": 43,
     "metadata": {},
     "output_type": "execute_result"
    }
   ],
   "source": [
    "year = cnt(data[1],data[0],'year')\n",
    "year"
   ]
  },
  {
   "cell_type": "code",
   "execution_count": 45,
   "metadata": {},
   "outputs": [],
   "source": [
    "for idx,val in enumerate(data[0]):\n",
    "    vars()[val] = cnt(data[1],data[0],val)"
   ]
  },
  {
   "cell_type": "code",
   "execution_count": 50,
   "metadata": {},
   "outputs": [],
   "source": [
    "import matplotlib.pyplot as plt\n",
    "%matplotlib inline"
   ]
  },
  {
   "cell_type": "code",
   "execution_count": 69,
   "metadata": {},
   "outputs": [],
   "source": [
    "def graph(v):\n",
    "    fx=v.keys()\n",
    "    x=[int(i) for i in fx]\n",
    "    y=v.values()\n",
    "    plt.plot(x,y)\n",
    "    plt.xticks(x)\n",
    "    plt.title('Birthrates')\n",
    "    return plt.show()"
   ]
  },
  {
   "cell_type": "code",
   "execution_count": 71,
   "metadata": {},
   "outputs": [
    {
     "data": {
      "image/png": "[encoded data removed]",
      "text/plain": [
       "<matplotlib.figure.Figure at 0x7f2b2de9cf28>"
      ]
     },
     "metadata": {},
     "output_type": "display_data"
    }
   ],
   "source": [
    "graph(year)"
   ]
  },
  {
   "cell_type": "raw",
   "metadata": {},
   "source": []
  }
 ],
 "metadata": {
  "kernelspec": {
   "display_name": "Python 3",
   "language": "python",
   "name": "python3"
  },
  "language_info": {
   "codemirror_mode": {
    "name": "ipython",
    "version": 3
   },
   "file_extension": ".py",
   "mimetype": "text/x-python",
   "name": "python",
   "nbconvert_exporter": "python",
   "pygments_lexer": "ipython3",
   "version": "3.6.4"
  }
 },
 "nbformat": 4,
 "nbformat_minor": 2
}
