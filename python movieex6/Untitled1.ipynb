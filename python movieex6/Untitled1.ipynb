{
 "cells": [
  {
   "cell_type": "code",
   "execution_count": 1,
   "metadata": {},
   "outputs": [],
   "source": [
    "import pandas as pd\n",
    "import matplotlib.pyplot as plt\n",
    "import seaborn as sns\n",
    "import warnings\n",
    "%matplotlib inline\n",
    "warnings.filterwarnings('ignore')"
   ]
  },
  {
   "cell_type": "code",
   "execution_count": 2,
   "metadata": {},
   "outputs": [
    {
     "data": {
      "text/html": [
       "<div>\n",
       "<style scoped>\n",
       "    .dataframe tbody tr th:only-of-type {\n",
       "        vertical-align: middle;\n",
       "    }\n",
       "\n",
       "    .dataframe tbody tr th {\n",
       "        vertical-align: top;\n",
       "    }\n",
       "\n",
       "    .dataframe thead th {\n",
       "        text-align: right;\n",
       "    }\n",
       "</style>\n",
       "<table border=\"1\" class=\"dataframe\">\n",
       "  <thead>\n",
       "    <tr style=\"text-align: right;\">\n",
       "      <th></th>\n",
       "      <th>Day of Week</th>\n",
       "      <th>Director</th>\n",
       "      <th>Genre</th>\n",
       "      <th>Movie Title</th>\n",
       "      <th>Release Date</th>\n",
       "      <th>Studio</th>\n",
       "      <th>Adjusted Gross ($mill)</th>\n",
       "      <th>Budget ($mill)</th>\n",
       "      <th>Gross ($mill)</th>\n",
       "      <th>IMDb Rating</th>\n",
       "      <th>MovieLens Rating</th>\n",
       "      <th>Overseas ($mill)</th>\n",
       "      <th>Overseas%</th>\n",
       "      <th>Profit ($mill)</th>\n",
       "      <th>Profit%</th>\n",
       "      <th>Runtime (min)</th>\n",
       "      <th>US ($mill)</th>\n",
       "      <th>Gross % US</th>\n",
       "    </tr>\n",
       "  </thead>\n",
       "  <tbody>\n",
       "    <tr>\n",
       "      <th>0</th>\n",
       "      <td>Friday</td>\n",
       "      <td>Brad Bird</td>\n",
       "      <td>action</td>\n",
       "      <td>Tomorrowland</td>\n",
       "      <td>22/05/2015</td>\n",
       "      <td>Buena Vista Studios</td>\n",
       "      <td>202.1</td>\n",
       "      <td>170.0</td>\n",
       "      <td>202.1</td>\n",
       "      <td>6.7</td>\n",
       "      <td>3.26</td>\n",
       "      <td>111.9</td>\n",
       "      <td>55.4</td>\n",
       "      <td>32.1</td>\n",
       "      <td>18.9</td>\n",
       "      <td>130</td>\n",
       "      <td>90.2</td>\n",
       "      <td>44.6</td>\n",
       "    </tr>\n",
       "    <tr>\n",
       "      <th>1</th>\n",
       "      <td>Friday</td>\n",
       "      <td>Scott Waugh</td>\n",
       "      <td>action</td>\n",
       "      <td>Need for Speed</td>\n",
       "      <td>14/03/2014</td>\n",
       "      <td>Buena Vista Studios</td>\n",
       "      <td>204.2</td>\n",
       "      <td>66.0</td>\n",
       "      <td>203.3</td>\n",
       "      <td>6.6</td>\n",
       "      <td>2.97</td>\n",
       "      <td>159.7</td>\n",
       "      <td>78.6</td>\n",
       "      <td>137.3</td>\n",
       "      <td>208.0</td>\n",
       "      <td>132</td>\n",
       "      <td>43.6</td>\n",
       "      <td>21.4</td>\n",
       "    </tr>\n",
       "  </tbody>\n",
       "</table>\n",
       "</div>"
      ],
      "text/plain": [
       "  Day of Week     Director   Genre     Movie Title Release Date  \\\n",
       "0      Friday    Brad Bird  action    Tomorrowland   22/05/2015   \n",
       "1      Friday  Scott Waugh  action  Need for Speed   14/03/2014   \n",
       "\n",
       "                Studio Adjusted Gross ($mill)  Budget ($mill) Gross ($mill)  \\\n",
       "0  Buena Vista Studios                  202.1           170.0         202.1   \n",
       "1  Buena Vista Studios                  204.2            66.0         203.3   \n",
       "\n",
       "   IMDb Rating  MovieLens Rating Overseas ($mill)  Overseas% Profit ($mill)  \\\n",
       "0          6.7              3.26            111.9       55.4           32.1   \n",
       "1          6.6              2.97            159.7       78.6          137.3   \n",
       "\n",
       "   Profit%  Runtime (min)  US ($mill)  Gross % US  \n",
       "0     18.9            130        90.2        44.6  \n",
       "1    208.0            132        43.6        21.4  "
      ]
     },
     "execution_count": 2,
     "metadata": {},
     "output_type": "execute_result"
    }
   ],
   "source": [
    "f = pd.read_csv('Section6-Homework-Data.csv', encoding = \"ISO-8859-1\")\n",
    "f.head(2)"
   ]
  },
  {
   "cell_type": "code",
   "execution_count": 6,
   "metadata": {},
   "outputs": [
    {
     "name": "stdout",
     "output_type": "stream",
     "text": [
      "original rows: 608\n",
      "original cols: 18\n"
     ]
    },
    {
     "data": {
      "text/plain": [
       "(608, 18)"
      ]
     },
     "execution_count": 6,
     "metadata": {},
     "output_type": "execute_result"
    }
   ],
   "source": [
    "def original():\n",
    "    print('original rows: %d\\noriginal cols: %d'%\\\n",
    "          (f.shape[0],f.shape[1]))\n",
    "    return (f.shape[0],f.shape[1])\n",
    "original()"
   ]
  },
  {
   "cell_type": "code",
   "execution_count": 94,
   "metadata": {},
   "outputs": [
    {
     "name": "stdout",
     "output_type": "stream",
     "text": [
      "original rows: 608\n",
      "original cols: 20\n"
     ]
    }
   ],
   "source": [
    "#export to excel\n",
    "dimension = original()\n",
    "dimension = [dimension[0],dimension[1]]\n",
    "dimension = pd.DataFrame(data=dimension, index=['Original rows', 'Original cols:'])\n",
    "dimension.to_excel('movie.xlsx', sheet_name='original stats', header=False )"
   ]
  },
  {
   "cell_type": "code",
   "execution_count": 28,
   "metadata": {
    "scrolled": false
   },
   "outputs": [
    {
     "data": {
      "text/plain": [
       "Index(['Day of Week', 'Director', 'Genre', 'Movie Title', 'Release Date',\n",
       "       'Studio', 'Adjusted Gross ($mill)', 'Budget ($mill)', 'Gross ($mill)',\n",
       "       'IMDb Rating', 'MovieLens Rating', 'Overseas ($mill)', 'Overseas%',\n",
       "       'Profit ($mill)', 'Profit%', 'Runtime (min)', 'US ($mill)',\n",
       "       'Gross % US'],\n",
       "      dtype='object')"
      ]
     },
     "execution_count": 28,
     "metadata": {},
     "output_type": "execute_result"
    }
   ],
   "source": [
    "#fix column names\n",
    "f.columns"
   ]
  },
  {
   "cell_type": "code",
   "execution_count": 29,
   "metadata": {},
   "outputs": [],
   "source": [
    "f.columns=['Day', 'Director', 'Genre', 'MovieTitle', 'Release',\n",
    "       'Studio', 'Adj_GrossM', 'BudgetM', 'GrossM',\n",
    "       'IMDb', 'MovieLens', 'OverseasM', 'Overseas%',\n",
    "       'ProfitM', 'Profit%', 'Runtime', 'USM',\n",
    "       'Gross%US']"
   ]
  },
  {
   "cell_type": "code",
   "execution_count": 30,
   "metadata": {
    "scrolled": false
   },
   "outputs": [
    {
     "name": "stdout",
     "output_type": "stream",
     "text": [
      "<class 'pandas.core.frame.DataFrame'>\n",
      "RangeIndex: 608 entries, 0 to 607\n",
      "Data columns (total 18 columns):\n",
      "Day           608 non-null object\n",
      "Director      608 non-null object\n",
      "Genre         608 non-null object\n",
      "MovieTitle    608 non-null object\n",
      "Release       608 non-null object\n",
      "Studio        608 non-null object\n",
      "Adj_GrossM    608 non-null object\n",
      "BudgetM       608 non-null float64\n",
      "GrossM        608 non-null object\n",
      "IMDb          608 non-null float64\n",
      "MovieLens     608 non-null float64\n",
      "OverseasM     608 non-null object\n",
      "Overseas%     608 non-null float64\n",
      "ProfitM       608 non-null object\n",
      "Profit%       608 non-null float64\n",
      "Runtime       608 non-null int64\n",
      "USM           608 non-null float64\n",
      "Gross%US      608 non-null float64\n",
      "dtypes: float64(7), int64(1), object(10)\n",
      "memory usage: 85.6+ KB\n"
     ]
    }
   ],
   "source": [
    "f.info()"
   ]
  },
  {
   "cell_type": "code",
   "execution_count": 31,
   "metadata": {},
   "outputs": [
    {
     "data": {
      "text/html": [
       "<div>\n",
       "<style scoped>\n",
       "    .dataframe tbody tr th:only-of-type {\n",
       "        vertical-align: middle;\n",
       "    }\n",
       "\n",
       "    .dataframe tbody tr th {\n",
       "        vertical-align: top;\n",
       "    }\n",
       "\n",
       "    .dataframe thead th {\n",
       "        text-align: right;\n",
       "    }\n",
       "</style>\n",
       "<table border=\"1\" class=\"dataframe\">\n",
       "  <thead>\n",
       "    <tr style=\"text-align: right;\">\n",
       "      <th></th>\n",
       "      <th>Day</th>\n",
       "      <th>Director</th>\n",
       "      <th>Genre</th>\n",
       "      <th>MovieTitle</th>\n",
       "      <th>Release</th>\n",
       "      <th>Studio</th>\n",
       "      <th>Adj_GrossM</th>\n",
       "      <th>BudgetM</th>\n",
       "      <th>GrossM</th>\n",
       "      <th>IMDb</th>\n",
       "      <th>MovieLens</th>\n",
       "      <th>OverseasM</th>\n",
       "      <th>Overseas%</th>\n",
       "      <th>ProfitM</th>\n",
       "      <th>Profit%</th>\n",
       "      <th>Runtime</th>\n",
       "      <th>USM</th>\n",
       "      <th>Gross%US</th>\n",
       "      <th>ReleseDate</th>\n",
       "    </tr>\n",
       "  </thead>\n",
       "  <tbody>\n",
       "    <tr>\n",
       "      <th>0</th>\n",
       "      <td>Friday</td>\n",
       "      <td>Brad Bird</td>\n",
       "      <td>action</td>\n",
       "      <td>Tomorrowland</td>\n",
       "      <td>22/05/2015</td>\n",
       "      <td>Buena Vista Studios</td>\n",
       "      <td>202.1</td>\n",
       "      <td>170.0</td>\n",
       "      <td>202.1</td>\n",
       "      <td>6.7</td>\n",
       "      <td>3.26</td>\n",
       "      <td>111.9</td>\n",
       "      <td>55.4</td>\n",
       "      <td>32.1</td>\n",
       "      <td>18.9</td>\n",
       "      <td>130</td>\n",
       "      <td>90.2</td>\n",
       "      <td>44.6</td>\n",
       "      <td>2015-05-22</td>\n",
       "    </tr>\n",
       "    <tr>\n",
       "      <th>1</th>\n",
       "      <td>Friday</td>\n",
       "      <td>Scott Waugh</td>\n",
       "      <td>action</td>\n",
       "      <td>Need for Speed</td>\n",
       "      <td>14/03/2014</td>\n",
       "      <td>Buena Vista Studios</td>\n",
       "      <td>204.2</td>\n",
       "      <td>66.0</td>\n",
       "      <td>203.3</td>\n",
       "      <td>6.6</td>\n",
       "      <td>2.97</td>\n",
       "      <td>159.7</td>\n",
       "      <td>78.6</td>\n",
       "      <td>137.3</td>\n",
       "      <td>208.0</td>\n",
       "      <td>132</td>\n",
       "      <td>43.6</td>\n",
       "      <td>21.4</td>\n",
       "      <td>2014-03-14</td>\n",
       "    </tr>\n",
       "  </tbody>\n",
       "</table>\n",
       "</div>"
      ],
      "text/plain": [
       "      Day     Director   Genre      MovieTitle     Release  \\\n",
       "0  Friday    Brad Bird  action    Tomorrowland  22/05/2015   \n",
       "1  Friday  Scott Waugh  action  Need for Speed  14/03/2014   \n",
       "\n",
       "                Studio Adj_GrossM  BudgetM GrossM  IMDb  MovieLens OverseasM  \\\n",
       "0  Buena Vista Studios      202.1    170.0  202.1   6.7       3.26     111.9   \n",
       "1  Buena Vista Studios      204.2     66.0  203.3   6.6       2.97     159.7   \n",
       "\n",
       "   Overseas% ProfitM  Profit%  Runtime   USM  Gross%US ReleseDate  \n",
       "0       55.4    32.1     18.9      130  90.2      44.6 2015-05-22  \n",
       "1       78.6   137.3    208.0      132  43.6      21.4 2014-03-14  "
      ]
     },
     "execution_count": 31,
     "metadata": {},
     "output_type": "execute_result"
    }
   ],
   "source": [
    "#convert date to datetime\n",
    "f['ReleseDate']=pd.to_datetime(f['Release'])\n",
    "f.head(2)"
   ]
  },
  {
   "cell_type": "code",
   "execution_count": 32,
   "metadata": {},
   "outputs": [
    {
     "data": {
      "text/plain": [
       "0    2015\n",
       "1    2014\n",
       "2    2014\n",
       "3    2012\n",
       "4    2013\n",
       "Name: Year, dtype: category\n",
       "Categories (45, int64): [1939, 1961, 1967, 1972, ..., 2012, 2013, 2014, 2015]"
      ]
     },
     "execution_count": 32,
     "metadata": {},
     "output_type": "execute_result"
    }
   ],
   "source": [
    "#export year\n",
    "f['Year']=pd.DatetimeIndex(f['ReleseDate']).year\n",
    "f['Year']=f['Year'].astype('category')\n",
    "f['Year'][0:5]"
   ]
  },
  {
   "cell_type": "code",
   "execution_count": 97,
   "metadata": {},
   "outputs": [],
   "source": [
    "#append years to excel\n",
    "y=f['Year'].unique().tolist()\n",
    "y=[y[0],y[-1]]\n",
    "y=pd.DataFrame(y, columns=['Year']).transpose()\n",
    "y[y.columns[::-1]]\n",
    "\n",
    "from openpyxl import load_workbook\n",
    "book = load_workbook('movie.xlsx')\n",
    "writer = pd.ExcelWriter('movie.xlsx', engine='openpyxl') \n",
    "writer.book = book\n",
    "writer.sheets = dict((ws.title, ws) for ws in book.worksheets)\n",
    "\n",
    "y.to_excel(writer, \"original stats\", header=False, startrow=3)\n",
    "\n",
    "writer.save()"
   ]
  },
  {
   "cell_type": "code",
   "execution_count": 98,
   "metadata": {},
   "outputs": [
    {
     "name": "stdout",
     "output_type": "stream",
     "text": [
      "not coverted: BudgetM\n",
      "not coverted: IMDb\n",
      "not coverted: MovieLens\n",
      "not coverted: Overseas%\n",
      "not coverted: Profit%\n",
      "not coverted: Runtime\n",
      "not coverted: USM\n",
      "not coverted: Gross%US\n",
      "not coverted: ReleseDate\n",
      "not coverted: Year\n"
     ]
    }
   ],
   "source": [
    "#clear numerical columns and convert to float\n",
    "for i in f.loc[:,'Adj_GrossM':]:\n",
    "    try:\n",
    "        f[i]=f[i].str.replace(',','')\n",
    "        f[i]=f[i].astype('float')\n",
    "    except:\n",
    "        print('not coverted: '+i)\n",
    "#f.info()"
   ]
  },
  {
   "cell_type": "code",
   "execution_count": 99,
   "metadata": {},
   "outputs": [
    {
     "name": "stdout",
     "output_type": "stream",
     "text": [
      "<class 'pandas.core.frame.DataFrame'>\n",
      "RangeIndex: 608 entries, 0 to 607\n",
      "Data columns (total 20 columns):\n",
      "Day           608 non-null object\n",
      "Director      608 non-null object\n",
      "Genre         608 non-null object\n",
      "MovieTitle    608 non-null object\n",
      "Release       608 non-null object\n",
      "Studio        608 non-null object\n",
      "Adj_GrossM    608 non-null float64\n",
      "BudgetM       608 non-null float64\n",
      "GrossM        608 non-null float64\n",
      "IMDb          608 non-null float64\n",
      "MovieLens     608 non-null float64\n",
      "OverseasM     608 non-null float64\n",
      "Overseas%     608 non-null float64\n",
      "ProfitM       608 non-null float64\n",
      "Profit%       608 non-null float64\n",
      "Runtime       608 non-null int64\n",
      "USM           608 non-null float64\n",
      "Gross%US      608 non-null float64\n",
      "ReleseDate    608 non-null datetime64[ns]\n",
      "Year          608 non-null category\n",
      "dtypes: category(1), datetime64[ns](1), float64(11), int64(1), object(6)\n",
      "memory usage: 92.5+ KB\n"
     ]
    }
   ],
   "source": [
    "f.info()"
   ]
  },
  {
   "cell_type": "code",
   "execution_count": 100,
   "metadata": {},
   "outputs": [
    {
     "data": {
      "text/plain": [
       "Day           0\n",
       "Director      0\n",
       "Genre         0\n",
       "MovieTitle    0\n",
       "Release       0\n",
       "Studio        0\n",
       "Adj_GrossM    0\n",
       "BudgetM       0\n",
       "GrossM        0\n",
       "IMDb          0\n",
       "MovieLens     0\n",
       "OverseasM     0\n",
       "Overseas%     0\n",
       "ProfitM       0\n",
       "Profit%       0\n",
       "Runtime       0\n",
       "USM           0\n",
       "Gross%US      0\n",
       "ReleseDate    0\n",
       "Year          0\n",
       "dtype: int64"
      ]
     },
     "execution_count": 100,
     "metadata": {},
     "output_type": "execute_result"
    }
   ],
   "source": [
    "#check missing value\n",
    "f.isnull().sum()"
   ]
  },
  {
   "cell_type": "code",
   "execution_count": 101,
   "metadata": {},
   "outputs": [
    {
     "data": {
      "image/png": "[encoded data removed]",
      "text/plain": [
       "<matplotlib.figure.Figure at 0x7f900a1af0b8>"
      ]
     },
     "metadata": {},
     "output_type": "display_data"
    }
   ],
   "source": [
    "#check distribution\n",
    "f.hist(figsize=(10,10));"
   ]
  },
  {
   "cell_type": "code",
   "execution_count": 102,
   "metadata": {
    "scrolled": false
   },
   "outputs": [
    {
     "name": "stdout",
     "output_type": "stream",
     "text": [
      "nope:Day\n",
      "nope:Director\n",
      "nope:Genre\n",
      "nope:MovieTitle\n",
      "nope:Release\n",
      "nope:Studio\n",
      "nope:ReleseDate\n",
      "nope:Year\n"
     ]
    },
    {
     "data": {
      "image/png": "[encoded data removed]",
      "text/plain": [
       "<matplotlib.figure.Figure at 0x7f8ffe7d83c8>"
      ]
     },
     "metadata": {},
     "output_type": "display_data"
    }
   ],
   "source": [
    "#checking for outlayer\n",
    "l=[]\n",
    "h=[]\n",
    "for i in f:\n",
    "    \n",
    "    try:\n",
    "        if f[i].max() < 1000:\n",
    "            #print(f[i].max())\n",
    "            l.append(i)\n",
    "        h.append(i)\n",
    "        #print('nagy '+i) \n",
    "    except:\n",
    "        print('nope:'+i)\n",
    "#print(l)\n",
    "#print(h)\n",
    "fig, axes =plt.subplots(2,1)\n",
    "#l =['BudgetM','IMDb']\n",
    "axes[0].boxplot(f[l].values)\n",
    "axes[0].set_xticklabels(l)\n",
    "axes[1].boxplot(f[h].values)\n",
    "axes[1].set_xticklabels(h, rotation=60);"
   ]
  },
  {
   "cell_type": "code",
   "execution_count": 103,
   "metadata": {},
   "outputs": [
    {
     "data": {
      "text/html": [
       "<div>\n",
       "<style scoped>\n",
       "    .dataframe tbody tr th:only-of-type {\n",
       "        vertical-align: middle;\n",
       "    }\n",
       "\n",
       "    .dataframe tbody tr th {\n",
       "        vertical-align: top;\n",
       "    }\n",
       "\n",
       "    .dataframe thead th {\n",
       "        text-align: right;\n",
       "    }\n",
       "</style>\n",
       "<table border=\"1\" class=\"dataframe\">\n",
       "  <thead>\n",
       "    <tr style=\"text-align: right;\">\n",
       "      <th></th>\n",
       "      <th>Day</th>\n",
       "      <th>Director</th>\n",
       "      <th>Genre</th>\n",
       "      <th>MovieTitle</th>\n",
       "      <th>Release</th>\n",
       "      <th>Studio</th>\n",
       "      <th>Adj_GrossM</th>\n",
       "      <th>BudgetM</th>\n",
       "      <th>GrossM</th>\n",
       "      <th>IMDb</th>\n",
       "      <th>MovieLens</th>\n",
       "      <th>OverseasM</th>\n",
       "      <th>Overseas%</th>\n",
       "      <th>ProfitM</th>\n",
       "      <th>Profit%</th>\n",
       "      <th>Runtime</th>\n",
       "      <th>USM</th>\n",
       "      <th>Gross%US</th>\n",
       "      <th>ReleseDate</th>\n",
       "      <th>Year</th>\n",
       "    </tr>\n",
       "  </thead>\n",
       "  <tbody>\n",
       "    <tr>\n",
       "      <th>209</th>\n",
       "      <td>Wednesday</td>\n",
       "      <td>Daniel Myrick, Eduardo Sanchez</td>\n",
       "      <td>horror</td>\n",
       "      <td>The Blair Witch Project</td>\n",
       "      <td>14/07/1999</td>\n",
       "      <td>Art House Studios</td>\n",
       "      <td>354.9</td>\n",
       "      <td>0.6</td>\n",
       "      <td>248.6</td>\n",
       "      <td>6.4</td>\n",
       "      <td>2.88</td>\n",
       "      <td>108.1</td>\n",
       "      <td>43.5</td>\n",
       "      <td>248.0</td>\n",
       "      <td>41333.3</td>\n",
       "      <td>81</td>\n",
       "      <td>140.5</td>\n",
       "      <td>56.5</td>\n",
       "      <td>1999-07-14</td>\n",
       "      <td>1999</td>\n",
       "    </tr>\n",
       "  </tbody>\n",
       "</table>\n",
       "</div>"
      ],
      "text/plain": [
       "           Day                        Director   Genre  \\\n",
       "209  Wednesday  Daniel Myrick, Eduardo Sanchez  horror   \n",
       "\n",
       "                  MovieTitle     Release             Studio  Adj_GrossM  \\\n",
       "209  The Blair Witch Project  14/07/1999  Art House Studios       354.9   \n",
       "\n",
       "     BudgetM  GrossM  IMDb  MovieLens  OverseasM  Overseas%  ProfitM  Profit%  \\\n",
       "209      0.6   248.6   6.4       2.88      108.1       43.5    248.0  41333.3   \n",
       "\n",
       "     Runtime    USM  Gross%US ReleseDate  Year  \n",
       "209       81  140.5      56.5 1999-07-14  1999  "
      ]
     },
     "execution_count": 103,
     "metadata": {},
     "output_type": "execute_result"
    }
   ],
   "source": [
    "#check outlayer manually\n",
    "outlayer=f.loc[f['Profit%']>20000]\n",
    "outlayer"
   ]
  },
  {
   "cell_type": "code",
   "execution_count": 104,
   "metadata": {},
   "outputs": [
    {
     "data": {
      "text/html": [
       "<div>\n",
       "<style scoped>\n",
       "    .dataframe tbody tr th:only-of-type {\n",
       "        vertical-align: middle;\n",
       "    }\n",
       "\n",
       "    .dataframe tbody tr th {\n",
       "        vertical-align: top;\n",
       "    }\n",
       "\n",
       "    .dataframe thead th {\n",
       "        text-align: right;\n",
       "    }\n",
       "</style>\n",
       "<table border=\"1\" class=\"dataframe\">\n",
       "  <thead>\n",
       "    <tr style=\"text-align: right;\">\n",
       "      <th></th>\n",
       "      <th>Adj_GrossM</th>\n",
       "      <th>BudgetM</th>\n",
       "      <th>Day</th>\n",
       "      <th>Director</th>\n",
       "      <th>Genre</th>\n",
       "      <th>Gross%US</th>\n",
       "      <th>GrossM</th>\n",
       "      <th>IMDb</th>\n",
       "      <th>MovieLens</th>\n",
       "      <th>MovieTitle</th>\n",
       "      <th>Overseas%</th>\n",
       "      <th>OverseasM</th>\n",
       "      <th>Profit%</th>\n",
       "      <th>ProfitM</th>\n",
       "      <th>Release</th>\n",
       "      <th>ReleseDate</th>\n",
       "      <th>Runtime</th>\n",
       "      <th>Studio</th>\n",
       "      <th>USM</th>\n",
       "      <th>Year</th>\n",
       "    </tr>\n",
       "  </thead>\n",
       "  <tbody>\n",
       "    <tr>\n",
       "      <th>0</th>\n",
       "      <td>354.900000</td>\n",
       "      <td>0.600000</td>\n",
       "      <td>Wednesday</td>\n",
       "      <td>Daniel Myrick, Eduardo Sanchez</td>\n",
       "      <td>horror</td>\n",
       "      <td>56.500000</td>\n",
       "      <td>248.600000</td>\n",
       "      <td>6.400000</td>\n",
       "      <td>2.880000</td>\n",
       "      <td>The Blair Witch Project</td>\n",
       "      <td>43.500000</td>\n",
       "      <td>108.100000</td>\n",
       "      <td>41333.300000</td>\n",
       "      <td>248.000000</td>\n",
       "      <td>14/07/1999</td>\n",
       "      <td>1999-07-14</td>\n",
       "      <td>81.000000</td>\n",
       "      <td>Art House Studios</td>\n",
       "      <td>140.500000</td>\n",
       "      <td>1999</td>\n",
       "    </tr>\n",
       "    <tr>\n",
       "      <th>1</th>\n",
       "      <td>522.768421</td>\n",
       "      <td>72.821053</td>\n",
       "      <td>NaN</td>\n",
       "      <td>NaN</td>\n",
       "      <td>NaN</td>\n",
       "      <td>45.873684</td>\n",
       "      <td>366.231579</td>\n",
       "      <td>6.847368</td>\n",
       "      <td>3.303684</td>\n",
       "      <td>NaN</td>\n",
       "      <td>54.126316</td>\n",
       "      <td>200.931579</td>\n",
       "      <td>2786.957895</td>\n",
       "      <td>293.410526</td>\n",
       "      <td>NaN</td>\n",
       "      <td>NaT</td>\n",
       "      <td>112.157895</td>\n",
       "      <td>NaN</td>\n",
       "      <td>165.305263</td>\n",
       "      <td>NaN</td>\n",
       "    </tr>\n",
       "  </tbody>\n",
       "</table>\n",
       "</div>"
      ],
      "text/plain": [
       "   Adj_GrossM    BudgetM        Day                        Director   Genre  \\\n",
       "0  354.900000   0.600000  Wednesday  Daniel Myrick, Eduardo Sanchez  horror   \n",
       "1  522.768421  72.821053        NaN                             NaN     NaN   \n",
       "\n",
       "    Gross%US      GrossM      IMDb  MovieLens               MovieTitle  \\\n",
       "0  56.500000  248.600000  6.400000   2.880000  The Blair Witch Project   \n",
       "1  45.873684  366.231579  6.847368   3.303684                      NaN   \n",
       "\n",
       "   Overseas%   OverseasM       Profit%     ProfitM     Release ReleseDate  \\\n",
       "0  43.500000  108.100000  41333.300000  248.000000  14/07/1999 1999-07-14   \n",
       "1  54.126316  200.931579   2786.957895  293.410526         NaN        NaT   \n",
       "\n",
       "      Runtime             Studio         USM  Year  \n",
       "0   81.000000  Art House Studios  140.500000  1999  \n",
       "1  112.157895                NaN  165.305263   NaN  "
      ]
     },
     "execution_count": 104,
     "metadata": {},
     "output_type": "execute_result"
    }
   ],
   "source": [
    "#check the preplacement option for yearly or genre average\n",
    "import numpy as np\n",
    "#year99=f.pivot_table(index=['Year','Genre'], aggfunc=[np.mean])\n",
    "year99=f.pivot_table(index='Year', aggfunc=np.mean)\n",
    "year99=year99.query('Year==1999')\n",
    "#year99.query('Genre==[\"horror\"]')\n",
    "outlayer2=outlayer.append(year99, ignore_index=True)\n",
    "outlayer2"
   ]
  },
  {
   "cell_type": "code",
   "execution_count": 105,
   "metadata": {},
   "outputs": [
    {
     "data": {
      "text/plain": [
       "2786.9578947368427"
      ]
     },
     "execution_count": 105,
     "metadata": {},
     "output_type": "execute_result"
    }
   ],
   "source": [
    "#BudgrtM, ProfitM correction with year 1999 average\n",
    "f['BudgetM'][209]=outlayer2.at[1,\"BudgetM\"]\n",
    "f['Profit%'][209]=outlayer2.at[1,'Profit%']\n",
    "f['Profit%'][209]"
   ]
  },
  {
   "cell_type": "markdown",
   "metadata": {},
   "source": [
    "### Descriptive a analysis"
   ]
  },
  {
   "cell_type": "code",
   "execution_count": 106,
   "metadata": {},
   "outputs": [
    {
     "data": {
      "text/html": [
       "<div>\n",
       "<style scoped>\n",
       "    .dataframe tbody tr th:only-of-type {\n",
       "        vertical-align: middle;\n",
       "    }\n",
       "\n",
       "    .dataframe tbody tr th {\n",
       "        vertical-align: top;\n",
       "    }\n",
       "\n",
       "    .dataframe thead th {\n",
       "        text-align: right;\n",
       "    }\n",
       "</style>\n",
       "<table border=\"1\" class=\"dataframe\">\n",
       "  <thead>\n",
       "    <tr style=\"text-align: right;\">\n",
       "      <th></th>\n",
       "      <th>MovieTitle</th>\n",
       "      <th>Genre</th>\n",
       "      <th>Year</th>\n",
       "      <th>ProfitM</th>\n",
       "    </tr>\n",
       "  </thead>\n",
       "  <tbody>\n",
       "    <tr>\n",
       "      <th>605</th>\n",
       "      <td>Avatar</td>\n",
       "      <td>sci-fi</td>\n",
       "      <td>2009</td>\n",
       "      <td>2551.0</td>\n",
       "    </tr>\n",
       "    <tr>\n",
       "      <th>606</th>\n",
       "      <td>Titanic</td>\n",
       "      <td>drama</td>\n",
       "      <td>1997</td>\n",
       "      <td>1986.8</td>\n",
       "    </tr>\n",
       "    <tr>\n",
       "      <th>594</th>\n",
       "      <td>Furious 7</td>\n",
       "      <td>action</td>\n",
       "      <td>2015</td>\n",
       "      <td>1321.6</td>\n",
       "    </tr>\n",
       "    <tr>\n",
       "      <th>596</th>\n",
       "      <td>Marvel's The Avengers</td>\n",
       "      <td>action</td>\n",
       "      <td>2012</td>\n",
       "      <td>1298.6</td>\n",
       "    </tr>\n",
       "    <tr>\n",
       "      <th>590</th>\n",
       "      <td>Harry Potter and the Deathly Hallows Part 2</td>\n",
       "      <td>fantasy</td>\n",
       "      <td>2011</td>\n",
       "      <td>1216.5</td>\n",
       "    </tr>\n",
       "    <tr>\n",
       "      <th>586</th>\n",
       "      <td>Frozen</td>\n",
       "      <td>animation</td>\n",
       "      <td>2013</td>\n",
       "      <td>1124.2</td>\n",
       "    </tr>\n",
       "    <tr>\n",
       "      <th>588</th>\n",
       "      <td>Avengers: Age of Ultron</td>\n",
       "      <td>action</td>\n",
       "      <td>2015</td>\n",
       "      <td>1121.6</td>\n",
       "    </tr>\n",
       "    <tr>\n",
       "      <th>584</th>\n",
       "      <td>Jurassic World</td>\n",
       "      <td>action</td>\n",
       "      <td>2015</td>\n",
       "      <td>1030.9</td>\n",
       "    </tr>\n",
       "    <tr>\n",
       "      <th>592</th>\n",
       "      <td>The Lord of the Rings: The Return of the King</td>\n",
       "      <td>fantasy</td>\n",
       "      <td>2003</td>\n",
       "      <td>1025.9</td>\n",
       "    </tr>\n",
       "    <tr>\n",
       "      <th>583</th>\n",
       "      <td>Iron Man 3</td>\n",
       "      <td>action</td>\n",
       "      <td>2013</td>\n",
       "      <td>1015.4</td>\n",
       "    </tr>\n",
       "  </tbody>\n",
       "</table>\n",
       "</div>"
      ],
      "text/plain": [
       "                                        MovieTitle      Genre  Year  ProfitM\n",
       "605                                         Avatar     sci-fi  2009   2551.0\n",
       "606                                        Titanic      drama  1997   1986.8\n",
       "594                                      Furious 7     action  2015   1321.6\n",
       "596                          Marvel's The Avengers     action  2012   1298.6\n",
       "590    Harry Potter and the Deathly Hallows Part 2    fantasy  2011   1216.5\n",
       "586                                         Frozen  animation  2013   1124.2\n",
       "588                        Avengers: Age of Ultron     action  2015   1121.6\n",
       "584                                 Jurassic World     action  2015   1030.9\n",
       "592  The Lord of the Rings: The Return of the King    fantasy  2003   1025.9\n",
       "583                                     Iron Man 3     action  2013   1015.4"
      ]
     },
     "execution_count": 106,
     "metadata": {},
     "output_type": "execute_result"
    }
   ],
   "source": [
    "#10 highest profit\n",
    "topprofit=f.sort_values('ProfitM', ascending=False).head(10)\n",
    "cols=['MovieTitle','Genre','Year','ProfitM']\n",
    "topprofit=topprofit[cols]\n",
    "topprofit"
   ]
  },
  {
   "cell_type": "code",
   "execution_count": 131,
   "metadata": {},
   "outputs": [
    {
     "data": {
      "text/plain": [
       "action       5\n",
       "fantasy      2\n",
       "sci-fi       1\n",
       "animation    1\n",
       "drama        1\n",
       "Name: Genre, dtype: int64"
      ]
     },
     "execution_count": 131,
     "metadata": {},
     "output_type": "execute_result"
    }
   ],
   "source": [
    "count=topprofit.Genre.value_counts()\n",
    "count"
   ]
  },
  {
   "cell_type": "code",
   "execution_count": 133,
   "metadata": {},
   "outputs": [],
   "source": [
    "#export to excell\n",
    "book = load_workbook('movie.xlsx')\n",
    "writer = pd.ExcelWriter('movie.xlsx', engine='openpyxl') \n",
    "writer.book = book\n",
    "writer.sheets = dict((ws.title, ws) for ws in book.worksheets)\n",
    "\n",
    "topprofit.to_excel(writer, \"topprofit\", index=False)\n",
    "count.to_excel(writer,'topprofit', startrow=len(topprofit)+3)\n",
    "\n",
    "\n",
    "writer.save()"
   ]
  },
  {
   "cell_type": "code",
   "execution_count": 108,
   "metadata": {},
   "outputs": [
    {
     "data": {
      "text/html": [
       "<div>\n",
       "<style scoped>\n",
       "    .dataframe tbody tr th:only-of-type {\n",
       "        vertical-align: middle;\n",
       "    }\n",
       "\n",
       "    .dataframe tbody tr th {\n",
       "        vertical-align: top;\n",
       "    }\n",
       "\n",
       "    .dataframe thead th {\n",
       "        text-align: right;\n",
       "    }\n",
       "</style>\n",
       "<table border=\"1\" class=\"dataframe\">\n",
       "  <thead>\n",
       "    <tr style=\"text-align: right;\">\n",
       "      <th></th>\n",
       "      <th>MovieTitle</th>\n",
       "      <th>Genre</th>\n",
       "      <th>Year</th>\n",
       "      <th>ProfitM</th>\n",
       "    </tr>\n",
       "  </thead>\n",
       "  <tbody>\n",
       "    <tr>\n",
       "      <th>27</th>\n",
       "      <td>Green Lantern</td>\n",
       "      <td>action</td>\n",
       "      <td>2011</td>\n",
       "      <td>19.9</td>\n",
       "    </tr>\n",
       "    <tr>\n",
       "      <th>121</th>\n",
       "      <td>John Carter</td>\n",
       "      <td>sci-fi</td>\n",
       "      <td>2012</td>\n",
       "      <td>20.4</td>\n",
       "    </tr>\n",
       "    <tr>\n",
       "      <th>0</th>\n",
       "      <td>Tomorrowland</td>\n",
       "      <td>action</td>\n",
       "      <td>2015</td>\n",
       "      <td>32.1</td>\n",
       "    </tr>\n",
       "    <tr>\n",
       "      <th>73</th>\n",
       "      <td>The Lone Ranger</td>\n",
       "      <td>action</td>\n",
       "      <td>2013</td>\n",
       "      <td>35.5</td>\n",
       "    </tr>\n",
       "    <tr>\n",
       "      <th>152</th>\n",
       "      <td>Wild Wild West</td>\n",
       "      <td>action</td>\n",
       "      <td>1999</td>\n",
       "      <td>47.1</td>\n",
       "    </tr>\n",
       "    <tr>\n",
       "      <th>31</th>\n",
       "      <td>The Sorcerer's Apprentice</td>\n",
       "      <td>action</td>\n",
       "      <td>2010</td>\n",
       "      <td>55.3</td>\n",
       "    </tr>\n",
       "    <tr>\n",
       "      <th>4</th>\n",
       "      <td>White House Down</td>\n",
       "      <td>action</td>\n",
       "      <td>2013</td>\n",
       "      <td>55.4</td>\n",
       "    </tr>\n",
       "    <tr>\n",
       "      <th>50</th>\n",
       "      <td>Fun with Dick and Jane</td>\n",
       "      <td>comedy</td>\n",
       "      <td>2005</td>\n",
       "      <td>62.0</td>\n",
       "    </tr>\n",
       "    <tr>\n",
       "      <th>239</th>\n",
       "      <td>Teenage Mutant Ninja Turtles</td>\n",
       "      <td>action</td>\n",
       "      <td>1990</td>\n",
       "      <td>77.0</td>\n",
       "    </tr>\n",
       "    <tr>\n",
       "      <th>87</th>\n",
       "      <td>Master and Commander: The Far Side of the World</td>\n",
       "      <td>action</td>\n",
       "      <td>2003</td>\n",
       "      <td>77.0</td>\n",
       "    </tr>\n",
       "  </tbody>\n",
       "</table>\n",
       "</div>"
      ],
      "text/plain": [
       "                                          MovieTitle   Genre  Year  ProfitM\n",
       "27                                     Green Lantern  action  2011     19.9\n",
       "121                                      John Carter  sci-fi  2012     20.4\n",
       "0                                       Tomorrowland  action  2015     32.1\n",
       "73                                   The Lone Ranger  action  2013     35.5\n",
       "152                                   Wild Wild West  action  1999     47.1\n",
       "31                         The Sorcerer's Apprentice  action  2010     55.3\n",
       "4                                   White House Down  action  2013     55.4\n",
       "50                            Fun with Dick and Jane  comedy  2005     62.0\n",
       "239                     Teenage Mutant Ninja Turtles  action  1990     77.0\n",
       "87   Master and Commander: The Far Side of the World  action  2003     77.0"
      ]
     },
     "execution_count": 108,
     "metadata": {},
     "output_type": "execute_result"
    }
   ],
   "source": [
    "#10 less lucrative movies\n",
    "lessprofit=f.sort_values('ProfitM').head(10)\n",
    "lessprofit=lessprofit[cols]\n",
    "lessprofit"
   ]
  },
  {
   "cell_type": "code",
   "execution_count": 121,
   "metadata": {},
   "outputs": [
    {
     "data": {
      "text/plain": [
       "action    8\n",
       "sci-fi    1\n",
       "comedy    1\n",
       "Name: Genre, dtype: int64"
      ]
     },
     "execution_count": 121,
     "metadata": {},
     "output_type": "execute_result"
    }
   ],
   "source": [
    "count=lessprofit['Genre'].value_counts()\n",
    "count"
   ]
  },
  {
   "cell_type": "code",
   "execution_count": 124,
   "metadata": {},
   "outputs": [],
   "source": [
    "#export to exccel\n",
    "lessprofit.to_excel(writer,sheet_name='lessprofit', index=False)\n",
    "count.to_excel(writer,'lessprofit', startrow=len(lessprofit)+3)\n",
    "writer.save()"
   ]
  },
  {
   "cell_type": "code",
   "execution_count": 233,
   "metadata": {},
   "outputs": [
    {
     "data": {
      "image/png": "[encoded data removed]",
      "text/plain": [
       "<matplotlib.figure.Figure at 0x7f8ff86ad630>"
      ]
     },
     "metadata": {},
     "output_type": "display_data"
    }
   ],
   "source": [
    "fig, axes =plt.subplots(2,2, figsize=(11,6) )\n",
    "moviesyear=f.groupby('Year').count().MovieTitle\n",
    "budgetyear=f.groupby('Year').mean().BudgetM\n",
    "profityear=f.groupby('Year').mean().ProfitM\n",
    "imdbyear=f.groupby('Year').mean().IMDb\n",
    "mlensyear=f.groupby('Year').mean().MovieLens\n",
    "\n",
    "axes[0,0].bar(moviesyear.index,moviesyear)\n",
    "axes[0,1].bar(moviesyear.index,budgetyear)\n",
    "axes[1,0].bar(moviesyear.index,profityear)\n",
    "axes[1,1].plot(imdbyear.tolist(), label='IMDB', color='Blue')\n",
    "axes[1,1].plot(mlensyear.tolist(), label='MovieLens', color='Black')\n",
    "\n",
    "plt.legend()\n",
    "plt.sca(axes[1, 1])\n",
    "yearlabels=[imdbyear.index[0],imdbyear.index[14], imdbyear.index[24], \\\n",
    "            imdbyear.index[34], imdbyear.index[41],imdbyear.index[44]]\n",
    "plt.xticks([1,15,25,35,42,45], yearlabels, color='red', rotation=50)\n",
    "plt.xlabel('Years', color='Red')\n",
    "plt.ylabel('Noof movies', color='Red')\n",
    "axes[0,0].set_title('Number of movies by year \\n(1939-2015)', color=\"Red\")\n",
    "axes[0,1].set_title('Budges by year ($ Millions) \\n(1939-2015)', color=\"Red\")\n",
    "axes[1,0].set_title('Profit by year ($ Millions) \\n(1939-2015)', color=\"Red\")\n",
    "axes[1,1].set_title('Average ratings by year \\n(1939-2015)', color=\"Red\")\n",
    "plt.subplots_adjust(hspace= 0.5)\n",
    "plt.savefig('barchart1.png', transparent=True);"
   ]
  },
  {
   "cell_type": "code",
   "execution_count": 136,
   "metadata": {
    "collapsed": true
   },
   "outputs": [
    {
     "data": {
      "text/plain": [
       "Index(['Day', 'Director', 'Genre', 'MovieTitle', 'Release', 'Studio',\n",
       "       'Adj_GrossM', 'BudgetM', 'GrossM', 'IMDb', 'MovieLens', 'OverseasM',\n",
       "       'Overseas%', 'ProfitM', 'Profit%', 'Runtime', 'USM', 'Gross%US',\n",
       "       'ReleseDate', 'Year'],\n",
       "      dtype='object')"
      ]
     },
     "execution_count": 136,
     "metadata": {},
     "output_type": "execute_result"
    }
   ],
   "source": []
  },
  {
   "cell_type": "code",
   "execution_count": 227,
   "metadata": {
    "collapsed": true
   },
   "outputs": [
    {
     "data": {
      "text/plain": [
       "''"
      ]
     },
     "execution_count": 227,
     "metadata": {},
     "output_type": "execute_result"
    },
    {
     "data": {
      "image/png": "[encoded data removed]",
      "text/plain": [
       "<matplotlib.figure.Figure at 0x7f8ff8c21588>"
      ]
     },
     "metadata": {},
     "output_type": "display_data"
    }
   ],
   "source": []
  },
  {
   "cell_type": "code",
   "execution_count": 218,
   "metadata": {
    "collapsed": true
   },
   "outputs": [
    {
     "data": {
      "text/plain": [
       "1991"
      ]
     },
     "execution_count": 218,
     "metadata": {},
     "output_type": "execute_result"
    }
   ],
   "source": []
  },
  {
   "cell_type": "code",
   "execution_count": null,
   "metadata": {},
   "outputs": [],
   "source": []
  },
  {
   "cell_type": "code",
   "execution_count": null,
   "metadata": {},
   "outputs": [],
   "source": []
  },
  {
   "cell_type": "code",
   "execution_count": null,
   "metadata": {},
   "outputs": [],
   "source": []
  },
  {
   "cell_type": "code",
   "execution_count": null,
   "metadata": {},
   "outputs": [],
   "source": []
  },
  {
   "cell_type": "code",
   "execution_count": null,
   "metadata": {},
   "outputs": [],
   "source": []
  },
  {
   "cell_type": "code",
   "execution_count": null,
   "metadata": {},
   "outputs": [],
   "source": []
  },
  {
   "cell_type": "code",
   "execution_count": null,
   "metadata": {},
   "outputs": [],
   "source": []
  },
  {
   "cell_type": "code",
   "execution_count": null,
   "metadata": {},
   "outputs": [],
   "source": []
  }
 ],
 "metadata": {
  "kernelspec": {
   "display_name": "Python 3",
   "language": "python",
   "name": "python3"
  },
  "language_info": {
   "codemirror_mode": {
    "name": "ipython",
    "version": 3
   },
   "file_extension": ".py",
   "mimetype": "text/x-python",
   "name": "python",
   "nbconvert_exporter": "python",
   "pygments_lexer": "ipython3",
   "version": "3.6.4"
  }
 },
 "nbformat": 4,
 "nbformat_minor": 2
}
