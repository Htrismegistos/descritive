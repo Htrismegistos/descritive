{
 "cells": [
  {
   "cell_type": "code",
   "execution_count": 49,
   "metadata": {},
   "outputs": [],
   "source": [
    "f=open('birthrates.csv','r').read().split('\\n')"
   ]
  },
  {
   "cell_type": "code",
   "execution_count": 55,
   "metadata": {},
   "outputs": [],
   "source": [
    "def spliting(f=f):\n",
    "    d = [i.split(',') for i in f]\n",
    "    n=0\n",
    "    while n < 10:\n",
    "        if d[0][0] == '':\n",
    "            d=d[1:]\n",
    "        else: break\n",
    "        n += 1\n",
    "    hd=d[0]\n",
    "    dt=d[1:]\n",
    "    n=0\n",
    "    while n < 10:\n",
    "        if dt[-1][0] == '':\n",
    "            dt=dt[:-1]\n",
    "        else: break\n",
    "        n += 1\n",
    "    \n",
    "    return hd,dt\n",
    "\n"
   ]
  },
  {
   "cell_type": "code",
   "execution_count": 69,
   "metadata": {},
   "outputs": [
    {
     "data": {
      "text/plain": [
       "3652"
      ]
     },
     "execution_count": 69,
     "metadata": {},
     "output_type": "execute_result"
    }
   ],
   "source": [
    "data = spliting(f)\n",
    "data[-1][-4:]\n",
    "len(data[1])"
   ]
  },
  {
   "cell_type": "code",
   "execution_count": 98,
   "metadata": {},
   "outputs": [],
   "source": [
    "def counts(c='year', f=data):\n",
    "    hd = f[0]\n",
    "    dt = f[1]\n",
    "    dick = {}\n",
    "    for i,v in enumerate(hd):\n",
    "        if c == v:\n",
    "            x = i\n",
    "    for r in dt:\n",
    "        if r[x] not in dick:\n",
    "            dick[r[x]] = int(r[-1])\n",
    "\n",
    "        dick[r[x]] += int(r[-1])\n",
    "    return dick\n"
   ]
  },
  {
   "cell_type": "code",
   "execution_count": 99,
   "metadata": {},
   "outputs": [
    {
     "data": {
      "text/plain": [
       "{'1994': 3960863,\n",
       " '1995': 3907417,\n",
       " '1996': 3899177,\n",
       " '1997': 3889243,\n",
       " '1998': 3949766,\n",
       " '1999': 3967580,\n",
       " '2000': 4067657,\n",
       " '2001': 4033370,\n",
       " '2002': 4029516,\n",
       " '2003': 4097733}"
      ]
     },
     "execution_count": 99,
     "metadata": {},
     "output_type": "execute_result"
    }
   ],
   "source": [
    "counting = counts('year',f=data)\n",
    "counting"
   ]
  },
  {
   "cell_type": "code",
   "execution_count": 100,
   "metadata": {},
   "outputs": [],
   "source": [
    "import matplotlib.pyplot as plt\n",
    "%matplotlib inline"
   ]
  },
  {
   "cell_type": "code",
   "execution_count": 106,
   "metadata": {},
   "outputs": [],
   "source": [
    "def graph(f=counting):\n",
    "    x=list(counting.keys())\n",
    "    x= [int(i) for i in x]\n",
    "    y=counting.values()\n",
    "\n",
    "    plt.plot(x,y)\n",
    "    plt.xticks(x)\n",
    "    plt.title('Birthrate calculation')\n",
    "    plt.show()"
   ]
  },
  {
   "cell_type": "code",
   "execution_count": 107,
   "metadata": {},
   "outputs": [
    {
     "data": {
      "image/png": "[encoded data removed]",
      "text/plain": [
       "<matplotlib.figure.Figure at 0x7f8e3ea11278>"
      ]
     },
     "metadata": {},
     "output_type": "display_data"
    }
   ],
   "source": [
    "graph()"
   ]
  },
  {
   "cell_type": "code",
   "execution_count": null,
   "metadata": {},
   "outputs": [],
   "source": []
  }
 ],
 "metadata": {
  "kernelspec": {
   "display_name": "Python 3",
   "language": "python",
   "name": "python3"
  },
  "language_info": {
   "codemirror_mode": {
    "name": "ipython",
    "version": 3
   },
   "file_extension": ".py",
   "mimetype": "text/x-python",
   "name": "python",
   "nbconvert_exporter": "python",
   "pygments_lexer": "ipython3",
   "version": "3.6.4"
  }
 },
 "nbformat": 4,
 "nbformat_minor": 2
}
